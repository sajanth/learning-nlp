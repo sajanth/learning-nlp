{
 "cells": [
  {
   "cell_type": "markdown",
   "id": "b753400d-62b5-4bd2-acaa-9b2e1880dc07",
   "metadata": {},
   "source": [
    "## Modelling text through character-level bigrams"
   ]
  },
  {
   "cell_type": "code",
   "execution_count": 50,
   "id": "0ec25412-2e46-46d6-a3fc-46158baf1367",
   "metadata": {
    "tags": []
   },
   "outputs": [
    {
     "data": {
      "text/plain": [
       "['Aargauerstrasse',\n",
       " 'Abeggweg',\n",
       " 'Abendweg',\n",
       " 'Ackermannstrasse',\n",
       " 'Ackersteinstrasse']"
      ]
     },
     "execution_count": 50,
     "metadata": {},
     "output_type": "execute_result"
    }
   ],
   "source": [
    "names = [line.rstrip() for line in open(\"../data/streets_zh.txt\")]\n",
    "names[:5]"
   ]
  },
  {
   "cell_type": "code",
   "execution_count": 51,
   "id": "d6709882-c6e6-478a-88a9-55b3ab0c17e5",
   "metadata": {
    "tags": []
   },
   "outputs": [],
   "source": [
    "# Add $ to mark beginning and ending of names\n",
    "for i in range(len(names)):\n",
    "    names[i] = \"$\" + names[i] + \"$\""
   ]
  },
  {
   "cell_type": "code",
   "execution_count": 52,
   "id": "56455e28-150f-4840-87aa-173b15a88cd8",
   "metadata": {
    "tags": []
   },
   "outputs": [],
   "source": [
    "chars = set()\n",
    "bigrams = set()\n",
    "freq = dict()\n",
    "for street in names:\n",
    "    for pair in zip(street, street[1:]):\n",
    "            chars.add(pair[0])\n",
    "            bigrams.add(pair)\n",
    "            freq[pair] = 1+freq.get(pair, 0)"
   ]
  },
  {
   "cell_type": "code",
   "execution_count": 53,
   "id": "8268abed-d697-410a-b73f-119504b4ecf4",
   "metadata": {
    "tags": []
   },
   "outputs": [],
   "source": [
    "freq_per_char = {i : dict() for i in chars}\n",
    "for bigram, f in freq.items():\n",
    "    i, j = bigram\n",
    "    freq_per_char[i][j] = f"
   ]
  },
  {
   "cell_type": "code",
   "execution_count": 54,
   "id": "0070030f-163d-43e3-b785-be499775067c",
   "metadata": {},
   "outputs": [],
   "source": [
    "# normalize\n",
    "for k in freq_per_char.keys():\n",
    "    total = sum(list(freq_per_char[k].values()))\n",
    "    for v in freq_per_char[k]:\n",
    "        freq_per_char[k][v]/= total"
   ]
  },
  {
   "cell_type": "code",
   "execution_count": 6,
   "id": "3f7eb12d-4e05-4a75-82cc-cd8c24823304",
   "metadata": {
    "collapsed": true,
    "jupyter": {
     "outputs_hidden": true
    },
    "tags": []
   },
   "outputs": [
    {
     "name": "stdout",
     "output_type": "stream",
     "text": [
      "$Hikssendend$\n",
      "$Drastrssse$\n",
      "$Nerassei$\n",
      "$Tasegedisstbütrserg$\n",
      "$So-Wie$\n",
      "$Sckengelenzenpassege$\n",
      "$Hofsegelrinrlasse$\n",
      "$Le$\n",
      "$Bum Grssstrastrasediweldonn-St\n",
      "$Stasseent-Sorastauerg$\n",
      "$Hüderseile$\n",
      "$Blerand-Plig$\n",
      "$Stre-Wensenwie$\n",
      "$Marngsterg$\n",
      "$Immase$\n",
      "$Belintr Godbholfwenselerg$\n",
      "$Honmanbeibse$\n",
      "$Deganenframühööfe$\n",
      "$Etese$\n",
      "$Imeleiechrrinsssssengweisestra\n",
      "$Goke$\n",
      "$Weingg$\n",
      "$Laserlz$\n",
      "$Mitrwise$\n",
      "$Hatrti-Obühoordöbe$\n",
      "$Tenièristrastorasstt-Geltraust\n",
      "$Jug$\n",
      "$Taf$\n",
      "$Grhge$\n",
      "$Bauwiroserattrambe$\n",
      "$Sie$\n",
      "$Doh-Senhuckeig$\n",
      "$Autrnwe$\n",
      "$Casstrn$\n",
      "$Fönee$\n",
      "$Sochascholdte$\n",
      "$We$\n",
      "$Eisstrse$\n",
      "$Torlsieldeichasststenetrwe$\n",
      "$Afasse$\n",
      "$Könsqustrasse$\n",
      "$Imenote$\n",
      "$Vodeirauraslidhbe$\n",
      "$Rinnwenenostrhännesteng$\n",
      "$Zendeberassenendetrasllili-Efe\n",
      "$Am dasesssströgastrasee$\n",
      "$Emsstz$\n",
      "$Hachssessse$\n",
      "$Bllsensseg$\n",
      "$Hol$\n",
      "$Kietrdieraunfld-Plackstrenasen\n",
      "$Strastg$\n",
      "$Sie$\n",
      "$Kre$\n",
      "$Frweranssssstrasenne$\n",
      "$Schseratraste$\n",
      "$Bumgg$\n",
      "$Javeraralbsbüste$\n",
      "$Strstieg$\n",
      "$Baufrass-Schlenhenstl-Beigg$\n",
      "$Bessase$\n",
      "$Masegwelgade$\n",
      "$Basenenstrnssche$\n",
      "$Zirisselllstrin$\n",
      "$Ede$\n",
      "$Kabüdasssem Hoheg$\n",
      "$Imüpperaserasssssenten-Sense$\n",
      "$Breraseruliwenz$\n",
      "$We$\n",
      "$Gase$\n",
      "$Le$\n",
      "$Gliststrhorerfeeg$\n",
      "$Holliholtratrg$\n",
      "$Sürhase$\n",
      "$Dastreilinseiastz$\n",
      "$Istrbe$\n",
      "$Dooeersspine$\n",
      "$Spllastrstrofsterasegseratrsss\n",
      "$Tag$\n",
      "$Oleg$\n",
      "$Böserauden$\n",
      "$Ritrasgste$\n",
      "$Se$\n",
      "$Glenichug$\n",
      "$Radssst-Ve$\n",
      "$Rügeraserente$\n",
      "$Rurassstrarstrairstrase$\n",
      "$Hasteie$\n",
      "$Ging$\n",
      "$Pichwe$\n",
      "$Aldste$\n",
      "$Wenfig$\n",
      "$Binbalirteratrilinssse$\n",
      "$Hohtrchlck$\n",
      "$Passche$\n",
      "$Wele$\n",
      "$Mandrawie$\n",
      "$Lölalitrweissserseiserggg-Pe$\n",
      "$Hiwenrserütge$\n",
      "$Spliwenstherennasssssegeg$\n"
     ]
    }
   ],
   "source": [
    "from random import choices\n",
    "\n",
    "for _ in range(100):\n",
    "    gen = [\"$\"]\n",
    "    for _ in range(30):\n",
    "        c = gen[-1]\n",
    "        samples = list(freq_per_char[c].keys())\n",
    "        p_samples = list(freq_per_char[c].values())\n",
    "        next_c = choices(samples, p_samples)[0]\n",
    "        gen.append(next_c)\n",
    "        if next_c==\"$\":\n",
    "            break\n",
    "    print(\"\".join(gen))\n",
    "        "
   ]
  },
  {
   "cell_type": "markdown",
   "id": "c0ff0f4b-54f6-4453-8e50-8c84dc54f1d3",
   "metadata": {
    "tags": []
   },
   "source": [
    "## Use a smarter way to tokenize "
   ]
  },
  {
   "cell_type": "code",
   "execution_count": 7,
   "id": "394c1728-b63c-4b32-b1f8-f87d1010b124",
   "metadata": {
    "jupyter": {
     "source_hidden": true
    },
    "tags": []
   },
   "outputs": [
    {
     "name": "stdout",
     "output_type": "stream",
     "text": [
      "new_token=('s', 'e')\n",
      "new_token=('a', 's')\n",
      "new_token=('as', 'se')\n",
      "new_token=('asse', '$')\n",
      "new_token=('s', 't')\n",
      "new_token=('r', 'asse$')\n",
      "new_token=('st', 'rasse$')\n",
      "new_token=('e', 'r')\n",
      "new_token=('e', 'n')\n",
      "new_token=('g', '$')\n",
      "new_token=('e', 'g$')\n",
      "new_token=('c', 'h')\n"
     ]
    }
   ],
   "source": [
    "#In every iteration step (Byte-pair encoding): \n",
    "# 1. find most commmon pair\n",
    "# 2. merge them and add to vocabulary\n",
    "# 3. get counts on new vocabulary\n",
    "\n",
    "new_tokens = set()\n",
    "n_iterations = 12\n",
    "names2 = names.copy()\n",
    "vocab2 = set()\n",
    "bigrams2 = set()\n",
    "freq2 = freq.copy()\n",
    "\n",
    "for n in range(n_iterations):\n",
    "    #1\n",
    "    new_token, _ = sorted(list(freq2.items()), key= lambda x: x[1])[-1]\n",
    "    print(f\"{new_token=}\")\n",
    "    #2\n",
    "    new_tokens.add(\"\".join(new_token))\n",
    "\n",
    "    # need to treat words in wordlist as list of chars so we can handle merged tokens\n",
    "    new_names = names.copy()\n",
    "    temp_list = []\n",
    "    for i, street in enumerate(names2):\n",
    "        temp = []\n",
    "        skip = False\n",
    "        for i in range(len(street)-1):\n",
    "            if skip:\n",
    "                skip = False\n",
    "                continue\n",
    "            if new_token == (street[i], street[i+1]):\n",
    "                temp.append(\"\".join(new_token))\n",
    "                skip = True\n",
    "            else:\n",
    "                temp.append(street[i])\n",
    "        temp_list.append(temp+[street[-1]] if temp[-1][-1]!=\"$\" else temp)\n",
    "    names2 = temp_list\n",
    "    \n",
    "    # create count of tokens\n",
    "    freq2 = dict()\n",
    "    for street in names2:\n",
    "        for pair in zip(street, street[1:]):\n",
    "                vocab2.add(pair[0])\n",
    "                bigrams2.add(pair)\n",
    "                freq2[pair] = 1+freq2.get(pair, 0)\n",
    "    freq_per_char2 = {i : dict() for i in vocab2}\n",
    "    for bigram, f in freq2.items():\n",
    "        i, j = bigram\n",
    "        freq_per_char2[i][j] = f\n",
    "    "
   ]
  },
  {
   "cell_type": "code",
   "execution_count": null,
   "id": "f9efb159-0954-42fb-a11f-ccfd92d37baa",
   "metadata": {},
   "outputs": [],
   "source": []
  },
  {
   "cell_type": "code",
   "execution_count": 8,
   "id": "adc75390-ef5f-4b37-8fe1-dbd064f14f4b",
   "metadata": {
    "tags": []
   },
   "outputs": [
    {
     "name": "stdout",
     "output_type": "stream",
     "text": [
      "$Spenplanhalatzweg$\n",
      "$Neiassin$\n",
      "$Alavegatpolkweg$\n",
      "$Hinenstrasse$\n",
      "$Sirgls$\n",
      "$Sühlhm Tibenpppweg$\n",
      "$Selstrasse$\n",
      "$Schögasse$\n",
      "$Beusibuläue$\n",
      "$Gicheiepfenstrasse$\n",
      "$Brmellig$\n",
      "$Riggkagleistrasse$\n",
      "$Lakerglstrasse$\n",
      "$Oes$\n",
      "$Ratzenanweg$\n",
      "$Petthlieusckeshldstrasse$\n",
      "$Bügstrasse$\n",
      "$Käbrauneteseruschhoplanerwalergagw\n",
      "$Weg$\n",
      "$Kölad-We$\n",
      "$Grastrasse$\n",
      "$Machwageledatstrasse$\n",
      "$Zwienken$\n",
      "$Heiesenstrasse$\n",
      "$Muhlergstrasse$\n",
      "$Elingenastgasse$\n",
      "$Uleipinkergstetlichstrasse$\n",
      "$Schöckweg$\n",
      "$Grchholzestegasse$\n",
      "$Borm Korardwili-Rauber$\n",
      "$Imooohat$\n",
      "$Jus$\n",
      "$Toschiweg$\n",
      "$Weistrasse$\n",
      "$Bastistesenstrasse$\n",
      "$Sterhnanzstrasse$\n",
      "$Ho-Schstrasse$\n",
      "$Lustrasse$\n",
      "$Butrasse$\n",
      "$Bienstrasse$\n",
      "$Zolbsm Stel$\n",
      "$Säckenstergasse$\n",
      "$Giadenstrasse$\n",
      "$Histrasse$\n",
      "$Maweg$\n",
      "$Stlgstrasse$\n",
      "$Gisenkstrasse$\n",
      "$Geiz$\n",
      "$Grstrasse$\n",
      "$Gelmachtofickwimperenhös-Wo-Peichh\n",
      "$Halbergatstrasse$\n",
      "$Ileinditistrasse$\n",
      "$Uleistrasse$\n",
      "$Klf-Mos$\n",
      "$Gweg$\n",
      "$Honstrasse$\n",
      "$Schbes$\n",
      "$Wieiscomizesch-Sirldelllkitügweg$\n",
      "$Lattz$\n",
      "$Margstrasse$\n",
      "$Bägstrasse$\n",
      "$Bädhofalig$\n",
      "$Bäckstrasse$\n",
      "$Ungstrasse$\n",
      "$Bühanelelanzweg$\n",
      "$Vöstbarelz$\n",
      "$Hegäposleuneiasterhoseringghnstiel\n",
      "$Brterscheesstrasse$\n",
      "$Oeini$\n",
      "$Heiasttstrasse$\n",
      "$Blegertenstrasse$\n",
      "$Molaruz$\n",
      "$H. Walik$\n",
      "$Feiltssenastlithndrismstrasse$\n",
      "$Alllid-Weg$\n",
      "$Mattertlicalingwaumenhllaistatzene\n",
      "$Imaustrasse$\n",
      "$Glalärtzolirlld$\n",
      "$Kachellstrasse$\n",
      "$Jankenzesenstrasse$\n",
      "$Marstrasse$\n",
      "$Impenpiefstrasse$\n",
      "$Oterweg$\n",
      "$Opfurelerbrastz$\n",
      "$Feieinelderstrasse$\n",
      "$Bönstrasse$\n",
      "$Ellueckerstrasse$\n",
      "$Rempeder$\n",
      "$Relildenbeibenhadöfstrasse$\n",
      "$Syldltthergsteistrasse$\n",
      "$Weg$\n",
      "$Kalhrcheilz$\n",
      "$Imorgstrasse$\n",
      "$Zelstrasse$\n",
      "$Wofen$\n",
      "$Walstrasse$\n",
      "$Zonnikghatrasse$\n",
      "$Kergasse$\n",
      "$Amplinganste daugstrasse$\n",
      "$Carachalellaistegasse$\n"
     ]
    }
   ],
   "source": [
    "for _ in range(100):\n",
    "    gen = [\"$\"]\n",
    "    for _ in range(30):\n",
    "        c = gen[-1]\n",
    "        samples = list(freq_per_char2[c].keys())\n",
    "        p_samples = list(freq_per_char2[c].values())\n",
    "        next_c = choices(samples, p_samples)[0]\n",
    "        gen.append(next_c)\n",
    "        if next_c[-1]==\"$\":\n",
    "            break\n",
    "    print(\"\".join(gen))"
   ]
  },
  {
   "cell_type": "code",
   "execution_count": null,
   "id": "15303ce8-623e-4d25-9f97-d6f3ba709715",
   "metadata": {},
   "outputs": [],
   "source": []
  },
  {
   "cell_type": "markdown",
   "id": "449f192c-3034-4e66-83d0-3437c8374310",
   "metadata": {
    "tags": []
   },
   "source": [
    "## How good is our model?"
   ]
  },
  {
   "cell_type": "code",
   "execution_count": 21,
   "id": "a0d720ae-d99b-480f-953d-ee1c98bb8fe4",
   "metadata": {},
   "outputs": [],
   "source": [
    "from math import log"
   ]
  },
  {
   "cell_type": "code",
   "execution_count": 22,
   "id": "dae6637f-38d9-4b3f-94b4-7ab55a5e2512",
   "metadata": {},
   "outputs": [
    {
     "name": "stdout",
     "output_type": "stream",
     "text": [
      "8.974390446462344e-15\n",
      "-32.3444013796715\n",
      "29.491154302940576\n"
     ]
    }
   ],
   "source": [
    "total = 0\n",
    "for street in names:\n",
    "    likelihood = 1\n",
    "    for pair in zip(street, street[1:]):\n",
    "        likelihood *=  freq_per_char[pair[0]][pair[1]]\n",
    "    total += -log(likelihood)\n",
    "print(likelihood)\n",
    "print(log(likelihood))\n",
    "print(total/len(names))"
   ]
  },
  {
   "cell_type": "code",
   "execution_count": 294,
   "id": "1aa70888-8483-4fa1-91d3-0d4608ea46a7",
   "metadata": {},
   "outputs": [
    {
     "name": "stdout",
     "output_type": "stream",
     "text": [
      "2.0474445195968944\n"
     ]
    }
   ],
   "source": [
    "total = 0\n",
    "n_pairs = sum(list(freq.values()))\n",
    "for street in names:\n",
    "    likelihood = 1\n",
    "    for pair in zip(street, street[1:]):\n",
    "        total +=  -log(freq_per_char[pair[0]][pair[1]])\n",
    "print(total/n_pairs)"
   ]
  },
  {
   "cell_type": "code",
   "execution_count": 10,
   "id": "9ae9c6b6-ad9f-40f4-ac54-eebc50fbb1f0",
   "metadata": {},
   "outputs": [],
   "source": [
    "char2int = {c:i for i, c  in enumerate(chars)}"
   ]
  },
  {
   "cell_type": "code",
   "execution_count": 171,
   "id": "6bb53c15-67e0-4724-9f71-c58f977f91ef",
   "metadata": {},
   "outputs": [],
   "source": [
    "char2int = {c:i for i, c  in enumerate(chars)}\n",
    "def char2vec (char: str) -> list:\n",
    "    vec = [0] * len(chars)\n",
    "    vec[char2int[char]] = 1\n",
    "    return vec"
   ]
  },
  {
   "cell_type": "code",
   "execution_count": 30,
   "id": "a99da252-a9e4-4517-8502-8b66445063aa",
   "metadata": {},
   "outputs": [],
   "source": [
    "import matplotlib.pyplot as plt"
   ]
  },
  {
   "cell_type": "code",
   "execution_count": 170,
   "id": "1c52fbaa-a3ac-41f7-9346-36b7f4915413",
   "metadata": {},
   "outputs": [],
   "source": [
    "import torch\n",
    "weights = torch.randn(size = [len(chars), len(chars)], requires_grad=True)"
   ]
  },
  {
   "cell_type": "code",
   "execution_count": 45,
   "id": "e98d4e2f-e2d4-4952-8d10-334de629c0ac",
   "metadata": {},
   "outputs": [
    {
     "data": {
      "text/plain": [
       "tensor([[ 0.8542,  1.6341, -0.9087,  ...,  1.0051,  1.7089, -1.9063],\n",
       "        [-0.0878, -0.1722,  0.4484,  ...,  0.1135, -1.0811, -1.3000],\n",
       "        [ 2.6952,  0.5992, -0.5248,  ...,  0.7034, -0.6256, -0.3218],\n",
       "        ...,\n",
       "        [-3.2885,  0.9184, -1.2963,  ...,  0.4978,  0.0340,  1.2996],\n",
       "        [-0.5769,  0.3745, -1.2531,  ...,  1.1820, -0.3220,  0.6932],\n",
       "        [ 1.1058,  0.1241,  1.2118,  ...,  0.7787,  1.8137,  1.0891]],\n",
       "       requires_grad=True)"
      ]
     },
     "execution_count": 45,
     "metadata": {},
     "output_type": "execute_result"
    }
   ],
   "source": [
    "weights"
   ]
  },
  {
   "cell_type": "code",
   "execution_count": 77,
   "id": "c0074af1-88da-49e2-a95b-f717c1fd22b2",
   "metadata": {},
   "outputs": [
    {
     "data": {
      "text/plain": [
       "<matplotlib.image.AxesImage at 0x7f993ba1c3d0>"
      ]
     },
     "execution_count": 77,
     "metadata": {},
     "output_type": "execute_result"
    },
    {
     "data": {
      "image/png": "[encoded data removed]",
      "text/plain": [
       "<Figure size 432x288 with 2 Axes>"
      ]
     },
     "metadata": {
      "needs_background": "light"
     },
     "output_type": "display_data"
    }
   ],
   "source": [
    "f, axes = plt.subplots(1, 2)\n",
    "axes[0].imshow(weights.detach().numpy())\n",
    "axes[1].imshow(torch.tensor(char2vec(\"a\")).unsqueeze(1))"
   ]
  },
  {
   "cell_type": "code",
   "execution_count": 70,
   "id": "8f37b8b7-bf65-4c66-b2e8-060363587099",
   "metadata": {},
   "outputs": [
    {
     "data": {
      "text/plain": [
       "<matplotlib.image.AxesImage at 0x7f99484d5fa0>"
      ]
     },
     "execution_count": 70,
     "metadata": {},
     "output_type": "execute_result"
    }
   ],
   "source": [
    "ax1."
   ]
  },
  {
   "cell_type": "code",
   "execution_count": 72,
   "id": "ebfbe7d1-22f6-4f1a-9df0-d6ef3225d759",
   "metadata": {},
   "outputs": [],
   "source": [
    "plt.show()"
   ]
  },
  {
   "cell_type": "code",
   "execution_count": 68,
   "id": "913f7939-7447-4e91-94cf-6a5503be0083",
   "metadata": {},
   "outputs": [
    {
     "data": {
      "image/png": "[encoded data removed]",
      "text/plain": [
       "<Figure size 432x288 with 1 Axes>"
      ]
     },
     "metadata": {
      "needs_background": "light"
     },
     "output_type": "display_data"
    },
    {
     "data": {
      "image/png": "[encoded data removed]",
      "text/plain": [
       "<Figure size 432x288 with 1 Axes>"
      ]
     },
     "metadata": {
      "needs_background": "light"
     },
     "output_type": "display_data"
    },
    {
     "data": {
      "text/plain": [
       "(<matplotlib.image.AxesImage at 0x7f993c835610>,\n",
       " None,\n",
       " <matplotlib.image.AxesImage at 0x7f992a29f280>,\n",
       " None)"
      ]
     },
     "execution_count": 68,
     "metadata": {},
     "output_type": "execute_result"
    }
   ],
   "source": [
    "plt.imshow(weights.detach().numpy()),plt.show(), plt.imshow(torch.tensor(char2vec(\"a\")).unsqueeze(1)), plt.show()"
   ]
  },
  {
   "cell_type": "code",
   "execution_count": 46,
   "id": "b8a92abf-c1c8-4430-b47f-4e122dabb021",
   "metadata": {},
   "outputs": [],
   "source": [
    "y = torch.matmul(weights, torch.tensor(char2vec(\"a\")).float()) # Wx = y"
   ]
  },
  {
   "cell_type": "code",
   "execution_count": 85,
   "id": "6430575d-20d9-4141-a39f-cdad32aa63a6",
   "metadata": {},
   "outputs": [
    {
     "data": {
      "text/plain": [
       "(tensor([ 0.2264, -0.8310,  0.0731, -0.6908,  0.2430, -1.3981, -1.5117, -1.0392,\n",
       "          1.8615, -1.6757, -0.4115,  0.4169,  0.5168,  0.6077, -0.6289, -0.5361,\n",
       "          0.3855, -1.2618, -0.2099,  0.7454,  0.0957,  0.9333,  0.8738, -1.0651,\n",
       "          1.3845, -1.8280,  0.1412, -0.2640,  0.2599, -0.4606, -0.3412,  0.7220,\n",
       "         -0.3596,  0.9157,  0.3197, -0.9711, -3.0288,  0.7911, -1.4428,  0.1350,\n",
       "         -1.1475,  1.8578,  0.0132, -0.5578,  0.5019, -0.4711,  0.1959, -1.6474,\n",
       "          1.1596,  1.9210,  0.5266, -0.8558,  0.5192, -1.1770, -2.0402,  0.1239,\n",
       "         -0.2872,  0.8384], grad_fn=<MvBackward0>),\n",
       " 58,\n",
       " 58)"
      ]
     },
     "execution_count": 85,
     "metadata": {},
     "output_type": "execute_result"
    }
   ],
   "source": [
    "y, len(y), len(chars)"
   ]
  },
  {
   "cell_type": "code",
   "execution_count": 83,
   "id": "62291502-1636-462b-ae9e-1ee07ed1524f",
   "metadata": {},
   "outputs": [
    {
     "data": {
      "text/plain": [
       "10"
      ]
     },
     "execution_count": 83,
     "metadata": {},
     "output_type": "execute_result"
    }
   ],
   "source": [
    "char2int[\"a\"]"
   ]
  },
  {
   "cell_type": "code",
   "execution_count": 84,
   "id": "ddc34377-789b-4715-9ce9-3b059b5a7282",
   "metadata": {},
   "outputs": [
    {
     "data": {
      "text/plain": [
       "tensor([ 0.2264, -0.8310,  0.0731, -0.6908,  0.2430, -1.3981, -1.5117, -1.0392,\n",
       "         1.8615, -1.6757, -0.4115,  0.4169,  0.5168,  0.6077, -0.6289, -0.5361,\n",
       "         0.3855, -1.2618, -0.2099,  0.7454,  0.0957,  0.9333,  0.8738, -1.0651,\n",
       "         1.3845, -1.8280,  0.1412, -0.2640,  0.2599, -0.4606, -0.3412,  0.7220,\n",
       "        -0.3596,  0.9157,  0.3197, -0.9711, -3.0288,  0.7911, -1.4428,  0.1350,\n",
       "        -1.1475,  1.8578,  0.0132, -0.5578,  0.5019, -0.4711,  0.1959, -1.6474,\n",
       "         1.1596,  1.9210,  0.5266, -0.8558,  0.5192, -1.1770, -2.0402,  0.1239,\n",
       "        -0.2872,  0.8384], grad_fn=<SelectBackward0>)"
      ]
     },
     "execution_count": 84,
     "metadata": {},
     "output_type": "execute_result"
    }
   ],
   "source": [
    "weights[:, 10]"
   ]
  },
  {
   "cell_type": "code",
   "execution_count": 48,
   "id": "11f4b054-c336-4e3f-a35c-4fb414b5dcaf",
   "metadata": {},
   "outputs": [],
   "source": [
    "sum_y = y.sum()"
   ]
  },
  {
   "cell_type": "code",
   "execution_count": 52,
   "id": "3e030aa1-8973-4b1e-8b7a-dd63eaba0fec",
   "metadata": {},
   "outputs": [],
   "source": [
    "sum_y.backward()"
   ]
  },
  {
   "cell_type": "code",
   "execution_count": 54,
   "id": "5a7283ee-1a5e-49c6-88df-caf3467c2fe3",
   "metadata": {},
   "outputs": [
    {
     "data": {
      "text/plain": [
       "<matplotlib.image.AxesImage at 0x7f9918656c10>"
      ]
     },
     "execution_count": 54,
     "metadata": {},
     "output_type": "execute_result"
    },
    {
     "data": {
      "image/png": "[encoded data removed]",
      "text/plain": [
       "<Figure size 432x288 with 1 Axes>"
      ]
     },
     "metadata": {
      "needs_background": "light"
     },
     "output_type": "display_data"
    }
   ],
   "source": [
    "plt.imshow(weights.grad, a)"
   ]
  },
  {
   "cell_type": "code",
   "execution_count": 87,
   "id": "30516a5b-d234-41a3-94ef-df2bea4ba3aa",
   "metadata": {},
   "outputs": [
    {
     "data": {
      "text/plain": [
       "tensor([[0., 0., 0.,  ..., 0., 0., 0.],\n",
       "        [0., 0., 0.,  ..., 0., 0., 0.],\n",
       "        [0., 0., 0.,  ..., 0., 0., 0.],\n",
       "        ...,\n",
       "        [0., 0., 0.,  ..., 0., 0., 0.],\n",
       "        [0., 0., 0.,  ..., 0., 0., 0.],\n",
       "        [0., 0., 0.,  ..., 0., 0., 0.]])"
      ]
     },
     "execution_count": 87,
     "metadata": {},
     "output_type": "execute_result"
    }
   ],
   "source": [
    "weights.grad #dsum_y/dweight[i, j]\n",
    "# sum_y = weight[0, 11] + weight[1, 11] + weight[2, 11] + ...\n"
   ]
  },
  {
   "cell_type": "code",
   "execution_count": 374,
   "id": "4ae5969a-f237-44b1-b7e9-caf11bf92261",
   "metadata": {},
   "outputs": [],
   "source": [
    "g = torch.Generator().manual_seed(2147483647)\n",
    "weights = torch.randn(size = (len(chars), len(chars)), requires_grad = True, generator=g)"
   ]
  },
  {
   "cell_type": "code",
   "execution_count": 172,
   "id": "78edcef2-9410-4956-be64-60d68d2d5e91",
   "metadata": {
    "tags": []
   },
   "outputs": [
    {
     "name": "stdout",
     "output_type": "stream",
     "text": [
      "total_loss:  tensor(5.1066, grad_fn=<DivBackward0>)\n"
     ]
    },
    {
     "ename": "KeyboardInterrupt",
     "evalue": "",
     "output_type": "error",
     "traceback": [
      "\u001b[0;31m---------------------------------------------------------------------------\u001b[0m",
      "\u001b[0;31mKeyboardInterrupt\u001b[0m                         Traceback (most recent call last)",
      "\u001b[0;32m/var/folders/fm/b7zttxvj0g113b2zbcmnzhgr0000gn/T/ipykernel_9247/1445760525.py\u001b[0m in \u001b[0;36m<module>\u001b[0;34m\u001b[0m\n\u001b[1;32m     18\u001b[0m     \u001b[0;31m#update weights\u001b[0m\u001b[0;34m\u001b[0m\u001b[0;34m\u001b[0m\u001b[0;34m\u001b[0m\u001b[0m\n\u001b[1;32m     19\u001b[0m     \u001b[0mweights\u001b[0m\u001b[0;34m.\u001b[0m\u001b[0mgrad\u001b[0m \u001b[0;34m=\u001b[0m \u001b[0;32mNone\u001b[0m\u001b[0;34m\u001b[0m\u001b[0;34m\u001b[0m\u001b[0m\n\u001b[0;32m---> 20\u001b[0;31m     \u001b[0mtotal_loss\u001b[0m\u001b[0;34m.\u001b[0m\u001b[0mbackward\u001b[0m\u001b[0;34m(\u001b[0m\u001b[0;34m)\u001b[0m\u001b[0;34m\u001b[0m\u001b[0;34m\u001b[0m\u001b[0m\n\u001b[0m\u001b[1;32m     21\u001b[0m \u001b[0;34m\u001b[0m\u001b[0m\n\u001b[1;32m     22\u001b[0m     \u001b[0mweights\u001b[0m\u001b[0;34m.\u001b[0m\u001b[0mdata\u001b[0m \u001b[0;34m=\u001b[0m \u001b[0mweights\u001b[0m\u001b[0;34m.\u001b[0m\u001b[0mdata\u001b[0m \u001b[0;34m-\u001b[0m \u001b[0;36m50\u001b[0m\u001b[0;34m*\u001b[0m\u001b[0mweights\u001b[0m\u001b[0;34m.\u001b[0m\u001b[0mgrad\u001b[0m\u001b[0;34m\u001b[0m\u001b[0;34m\u001b[0m\u001b[0m\n",
      "\u001b[0;32m~/saj_env/lib/python3.9/site-packages/torch/_tensor.py\u001b[0m in \u001b[0;36mbackward\u001b[0;34m(self, gradient, retain_graph, create_graph, inputs)\u001b[0m\n\u001b[1;32m    394\u001b[0m                 \u001b[0mcreate_graph\u001b[0m\u001b[0;34m=\u001b[0m\u001b[0mcreate_graph\u001b[0m\u001b[0;34m,\u001b[0m\u001b[0;34m\u001b[0m\u001b[0;34m\u001b[0m\u001b[0m\n\u001b[1;32m    395\u001b[0m                 inputs=inputs)\n\u001b[0;32m--> 396\u001b[0;31m         \u001b[0mtorch\u001b[0m\u001b[0;34m.\u001b[0m\u001b[0mautograd\u001b[0m\u001b[0;34m.\u001b[0m\u001b[0mbackward\u001b[0m\u001b[0;34m(\u001b[0m\u001b[0mself\u001b[0m\u001b[0;34m,\u001b[0m \u001b[0mgradient\u001b[0m\u001b[0;34m,\u001b[0m \u001b[0mretain_graph\u001b[0m\u001b[0;34m,\u001b[0m \u001b[0mcreate_graph\u001b[0m\u001b[0;34m,\u001b[0m \u001b[0minputs\u001b[0m\u001b[0;34m=\u001b[0m\u001b[0minputs\u001b[0m\u001b[0;34m)\u001b[0m\u001b[0;34m\u001b[0m\u001b[0;34m\u001b[0m\u001b[0m\n\u001b[0m\u001b[1;32m    397\u001b[0m \u001b[0;34m\u001b[0m\u001b[0m\n\u001b[1;32m    398\u001b[0m     \u001b[0;32mdef\u001b[0m \u001b[0mregister_hook\u001b[0m\u001b[0;34m(\u001b[0m\u001b[0mself\u001b[0m\u001b[0;34m,\u001b[0m \u001b[0mhook\u001b[0m\u001b[0;34m)\u001b[0m\u001b[0;34m:\u001b[0m\u001b[0;34m\u001b[0m\u001b[0;34m\u001b[0m\u001b[0m\n",
      "\u001b[0;32m~/saj_env/lib/python3.9/site-packages/torch/autograd/__init__.py\u001b[0m in \u001b[0;36mbackward\u001b[0;34m(tensors, grad_tensors, retain_graph, create_graph, grad_variables, inputs)\u001b[0m\n\u001b[1;32m    171\u001b[0m     \u001b[0;31m# some Python versions print out the first line of a multi-line function\u001b[0m\u001b[0;34m\u001b[0m\u001b[0;34m\u001b[0m\u001b[0;34m\u001b[0m\u001b[0m\n\u001b[1;32m    172\u001b[0m     \u001b[0;31m# calls in the traceback and some print out the last line\u001b[0m\u001b[0;34m\u001b[0m\u001b[0;34m\u001b[0m\u001b[0;34m\u001b[0m\u001b[0m\n\u001b[0;32m--> 173\u001b[0;31m     Variable._execution_engine.run_backward(  # Calls into the C++ engine to run the backward pass\n\u001b[0m\u001b[1;32m    174\u001b[0m         \u001b[0mtensors\u001b[0m\u001b[0;34m,\u001b[0m \u001b[0mgrad_tensors_\u001b[0m\u001b[0;34m,\u001b[0m \u001b[0mretain_graph\u001b[0m\u001b[0;34m,\u001b[0m \u001b[0mcreate_graph\u001b[0m\u001b[0;34m,\u001b[0m \u001b[0minputs\u001b[0m\u001b[0;34m,\u001b[0m\u001b[0;34m\u001b[0m\u001b[0;34m\u001b[0m\u001b[0m\n\u001b[1;32m    175\u001b[0m         allow_unreachable=True, accumulate_grad=True)  # Calls into the C++ engine to run the backward pass\n",
      "\u001b[0;31mKeyboardInterrupt\u001b[0m: "
     ]
    }
   ],
   "source": [
    "for _ in range(5):\n",
    "    total_loss = 0\n",
    "    total_pairs = 0\n",
    "    for name in names:\n",
    "        for inp, out in zip(name, name[1:]):\n",
    "            total_pairs += 1\n",
    "            inp = torch.tensor(char2vec(inp)).float()\n",
    "            out = torch.tensor(char2vec(out)).float()\n",
    "            y = torch.matmul(weights, inp)\n",
    "            y = y.exp()\n",
    "            y = y/y.sum()\n",
    "            pred = torch.matmul(out, y)\n",
    "            pred = -pred.log()\n",
    "            total_loss += pred\n",
    "    \n",
    "    total_loss = total_loss/total_pairs\n",
    "    print(\"total_loss: \", total_loss)\n",
    "    #update weights\n",
    "    weights.grad = None\n",
    "    total_loss.backward()\n",
    "    \n",
    "    weights.data = weights.data - 50*weights.grad\n",
    "                        "
   ]
  },
  {
   "cell_type": "code",
   "execution_count": 186,
   "id": "aaf81e78-a5b8-4c3d-977b-2757ead79671",
   "metadata": {},
   "outputs": [],
   "source": [
    "embedding = torch.randn([len(chars), 2], requires_grad=True)\n",
    "weights = torch.randn([2, len(chars)], requires_grad=True)"
   ]
  },
  {
   "cell_type": "code",
   "execution_count": 194,
   "id": "be513e2d-d292-403a-9c92-41097937b572",
   "metadata": {
    "tags": []
   },
   "outputs": [
    {
     "name": "stdout",
     "output_type": "stream",
     "text": [
      "total_loss:  tensor(3.3248, grad_fn=<AddBackward0>)\n",
      "total_loss:  tensor(3.3196, grad_fn=<AddBackward0>)\n",
      "total_loss:  tensor(3.3173, grad_fn=<AddBackward0>)\n",
      "total_loss:  tensor(3.3319, grad_fn=<AddBackward0>)\n",
      "total_loss:  tensor(3.3246, grad_fn=<AddBackward0>)\n",
      "total_loss:  tensor(3.3349, grad_fn=<AddBackward0>)\n",
      "total_loss:  tensor(3.3206, grad_fn=<AddBackward0>)\n",
      "total_loss:  tensor(3.3334, grad_fn=<AddBackward0>)\n",
      "total_loss:  tensor(3.3222, grad_fn=<AddBackward0>)\n",
      "total_loss:  tensor(3.3343, grad_fn=<AddBackward0>)\n",
      "total_loss:  tensor(3.3215, grad_fn=<AddBackward0>)\n",
      "total_loss:  tensor(3.3340, grad_fn=<AddBackward0>)\n",
      "total_loss:  tensor(3.3217, grad_fn=<AddBackward0>)\n",
      "total_loss:  tensor(3.3342, grad_fn=<AddBackward0>)\n",
      "total_loss:  tensor(3.3216, grad_fn=<AddBackward0>)\n",
      "total_loss:  tensor(3.3341, grad_fn=<AddBackward0>)\n",
      "total_loss:  tensor(3.3216, grad_fn=<AddBackward0>)\n",
      "total_loss:  tensor(3.3342, grad_fn=<AddBackward0>)\n",
      "total_loss:  tensor(3.3216, grad_fn=<AddBackward0>)\n",
      "total_loss:  tensor(3.3342, grad_fn=<AddBackward0>)\n",
      "total_loss:  tensor(3.3216, grad_fn=<AddBackward0>)\n",
      "total_loss:  tensor(3.3342, grad_fn=<AddBackward0>)\n",
      "total_loss:  tensor(3.3216, grad_fn=<AddBackward0>)\n",
      "total_loss:  tensor(3.3342, grad_fn=<AddBackward0>)\n",
      "total_loss:  tensor(3.3216, grad_fn=<AddBackward0>)\n",
      "total_loss:  tensor(3.3342, grad_fn=<AddBackward0>)\n",
      "total_loss:  tensor(3.3216, grad_fn=<AddBackward0>)\n",
      "total_loss:  tensor(3.3342, grad_fn=<AddBackward0>)\n",
      "total_loss:  tensor(3.3216, grad_fn=<AddBackward0>)\n",
      "total_loss:  tensor(3.3342, grad_fn=<AddBackward0>)\n",
      "total_loss:  tensor(3.3216, grad_fn=<AddBackward0>)\n",
      "total_loss:  tensor(3.3342, grad_fn=<AddBackward0>)\n",
      "total_loss:  tensor(3.3216, grad_fn=<AddBackward0>)\n",
      "total_loss:  tensor(3.3342, grad_fn=<AddBackward0>)\n",
      "total_loss:  tensor(3.3216, grad_fn=<AddBackward0>)\n",
      "total_loss:  tensor(3.3342, grad_fn=<AddBackward0>)\n",
      "total_loss:  tensor(3.3216, grad_fn=<AddBackward0>)\n",
      "total_loss:  tensor(3.3342, grad_fn=<AddBackward0>)\n",
      "total_loss:  tensor(3.3216, grad_fn=<AddBackward0>)\n",
      "total_loss:  tensor(3.3342, grad_fn=<AddBackward0>)\n",
      "total_loss:  tensor(3.3216, grad_fn=<AddBackward0>)\n",
      "total_loss:  tensor(3.3342, grad_fn=<AddBackward0>)\n",
      "total_loss:  tensor(3.3216, grad_fn=<AddBackward0>)\n",
      "total_loss:  tensor(3.3342, grad_fn=<AddBackward0>)\n",
      "total_loss:  tensor(3.3216, grad_fn=<AddBackward0>)\n",
      "total_loss:  tensor(3.3342, grad_fn=<AddBackward0>)\n",
      "total_loss:  tensor(3.3216, grad_fn=<AddBackward0>)\n",
      "total_loss:  tensor(3.3342, grad_fn=<AddBackward0>)\n",
      "total_loss:  tensor(3.3216, grad_fn=<AddBackward0>)\n",
      "total_loss:  tensor(3.3342, grad_fn=<AddBackward0>)\n"
     ]
    }
   ],
   "source": [
    "total_pairs = 0\n",
    "inp_ = []\n",
    "out_ = []\n",
    "for name in names:\n",
    "    for inp, out in zip(name, name[1:]):\n",
    "        total_pairs += 1\n",
    "        inp_.append(torch.tensor(char2vec(inp)).float())\n",
    "        out_.append(torch.tensor(char2vec(out)).float())\n",
    "inp_, out_ = torch.cat(inp_).reshape(-1, len(chars)), torch.cat(out_).reshape(-1, len(chars))\n",
    "for _ in range(50):\n",
    "    total_loss = 0\n",
    "    y = torch.matmul(inp_, embedding)\n",
    "    y = torch.matmul(y, weights)\n",
    "    y = y.exp()\n",
    "    y = y/y.sum(dim = 1, keepdim = True)\n",
    "    pred = (y*out_).sum(dim=1)\n",
    "    pred = -pred.log()\n",
    "    total_loss += pred.mean()\n",
    "    \n",
    "    print(\"total_loss: \", total_loss)\n",
    "    #update weights\n",
    "    weights.grad = None\n",
    "    total_loss.backward()\n",
    "\n",
    "    weights.data = weights.data - 15*weights.grad"
   ]
  },
  {
   "cell_type": "code",
   "execution_count": 385,
   "id": "ba2cd8a6-fded-4c1d-80c7-b7f39d445751",
   "metadata": {
    "tags": []
   },
   "outputs": [],
   "source": [
    "x = torch.tensor(char2vec(\"a\")).float()\n",
    "y = torch.matmul(x, weights)\n",
    "y = y.exp()\n",
    "y = y/y.sum()"
   ]
  },
  {
   "cell_type": "code",
   "execution_count": 390,
   "id": "e09a6c24-ab40-485e-bcf6-8b2bcd6d75a0",
   "metadata": {},
   "outputs": [
    {
     "data": {
      "text/plain": [
       "{'r': 0.04895104895104895,\n",
       " 'u': 0.047639860139860137,\n",
       " 's': 0.5721153846153846,\n",
       " 'n': 0.062062937062937064,\n",
       " 'z': 0.0017482517482517483,\n",
       " 't': 0.055944055944055944,\n",
       " 'l': 0.05638111888111888,\n",
       " 'c': 0.052884615384615384,\n",
       " 'b': 0.008741258741258742,\n",
       " 'w': 0.0026223776223776225,\n",
       " '-': 0.004370629370629371,\n",
       " 'd': 0.015297202797202798,\n",
       " 'h': 0.006118881118881119,\n",
       " 'g': 0.010926573426573426,\n",
       " 'i': 0.021853146853146852,\n",
       " 'm': 0.0118006993006993,\n",
       " 'e': 0.0013111888111888112,\n",
       " 'p': 0.005244755244755245,\n",
       " 'v': 0.0030594405594405595,\n",
       " 'a': 0.0030594405594405595,\n",
       " 'f': 0.004370629370629371,\n",
       " 'k': 0.0021853146853146855,\n",
       " 'x': 0.0013111888111888112}"
      ]
     },
     "execution_count": 390,
     "metadata": {},
     "output_type": "execute_result"
    }
   ],
   "source": [
    "freq_per_char[\"a\"]"
   ]
  },
  {
   "cell_type": "code",
   "execution_count": 394,
   "id": "c0f46122-c9cf-4b81-8772-5a93d8cc4022",
   "metadata": {},
   "outputs": [
    {
     "data": {
      "text/plain": [
       "tensor(0.0150, grad_fn=<SelectBackward0>)"
      ]
     },
     "execution_count": 394,
     "metadata": {},
     "output_type": "execute_result"
    }
   ],
   "source": [
    "y[char2int[\"d\"]]"
   ]
  },
  {
   "cell_type": "code",
   "execution_count": 295,
   "id": "c0ad0684-38e6-403d-b310-21bfed540bb0",
   "metadata": {},
   "outputs": [
    {
     "name": "stdout",
     "output_type": "stream",
     "text": [
      "number of examples:  32939\n"
     ]
    }
   ],
   "source": [
    "# create the dataset\n",
    "xs, ys = [], []\n",
    "for w in names:\n",
    "  chs = ['$'] + list(w) + ['$']\n",
    "  for ch1, ch2 in zip(chs, chs[1:]):\n",
    "    ix1 = char2int[ch1]\n",
    "    ix2 = char2int[ch2]\n",
    "    xs.append(ix1)\n",
    "    ys.append(ix2)\n",
    "xs = torch.tensor(xs)\n",
    "ys = torch.tensor(ys)\n",
    "num = xs.nelement()\n",
    "print('number of examples: ', num)\n",
    "\n",
    "# initialize the 'network'\n",
    "g = torch.Generator().manual_seed(2147483647)\n",
    "W = torch.randn((len(chars), len(chars)), generator=g, requires_grad=True)"
   ]
  },
  {
   "cell_type": "code",
   "execution_count": 288,
   "id": "82481449-9831-4fbb-ae49-f8011cc36e51",
   "metadata": {},
   "outputs": [
    {
     "data": {
      "text/plain": [
       "28923"
      ]
     },
     "execution_count": 288,
     "metadata": {},
     "output_type": "execute_result"
    }
   ],
   "source": [
    "sum(list(freq.values()))"
   ]
  },
  {
   "cell_type": "code",
   "execution_count": 244,
   "id": "5b76734f-f1f0-41a3-a89c-ba1157f5c878",
   "metadata": {},
   "outputs": [
    {
     "data": {
      "text/plain": [
       "torch.Size([32939, 58])"
      ]
     },
     "execution_count": 244,
     "metadata": {},
     "output_type": "execute_result"
    }
   ],
   "source": [
    "xenc.shape"
   ]
  },
  {
   "cell_type": "code",
   "execution_count": 296,
   "id": "6737d8d3-3c19-4267-8d89-d6d2fa96469d",
   "metadata": {},
   "outputs": [
    {
     "name": "stdout",
     "output_type": "stream",
     "text": [
      "4.553882598876953\n",
      "3.3619351387023926\n",
      "3.0436625480651855\n",
      "2.9034950733184814\n",
      "2.8133544921875\n",
      "2.743374824523926\n",
      "2.6859023571014404\n",
      "2.6373350620269775\n",
      "2.595532178878784\n",
      "2.5589983463287354\n",
      "2.526674747467041\n",
      "2.4977619647979736\n",
      "2.4716901779174805\n",
      "2.4480347633361816\n",
      "2.4264872074127197\n",
      "2.406806707382202\n",
      "2.388793468475342\n",
      "2.372288942337036\n",
      "2.3571219444274902\n",
      "2.343186855316162\n",
      "2.330307722091675\n",
      "2.318448781967163\n",
      "2.3073978424072266\n",
      "2.2972447872161865\n",
      "2.2876646518707275\n",
      "2.2789764404296875\n",
      "2.270587205886841\n",
      "2.2632503509521484\n",
      "2.2557971477508545\n",
      "2.2497994899749756\n",
      "2.2429826259613037\n",
      "2.2383666038513184\n",
      "2.231786012649536\n",
      "2.2285616397857666\n",
      "2.221766471862793\n",
      "2.219831943511963\n",
      "2.2125017642974854\n",
      "2.2116410732269287\n",
      "2.2037434577941895\n",
      "2.2037055492401123\n",
      "2.195432186126709\n",
      "2.1960065364837646\n",
      "2.187593698501587\n",
      "2.188632011413574\n",
      "2.180248260498047\n",
      "2.1816534996032715\n",
      "2.173386573791504\n",
      "2.175093412399292\n",
      "2.1669774055480957\n",
      "2.1689391136169434\n",
      "2.160979747772217\n",
      "2.163160800933838\n",
      "2.1553502082824707\n",
      "2.157721519470215\n",
      "2.1500470638275146\n",
      "2.15258526802063\n",
      "2.145033359527588\n",
      "2.147719144821167\n",
      "2.1402764320373535\n",
      "2.1430935859680176\n",
      "2.135749340057373\n",
      "2.138685464859009\n",
      "2.1314303874969482\n",
      "2.134474992752075\n",
      "2.12730073928833\n",
      "2.1304450035095215\n",
      "2.1233460903167725\n",
      "2.1265830993652344\n",
      "2.119553804397583\n",
      "2.122878074645996\n",
      "2.1159138679504395\n",
      "2.1193201541900635\n",
      "2.112417697906494\n",
      "2.115901470184326\n",
      "2.1090571880340576\n",
      "2.112614154815674\n",
      "2.1058249473571777\n",
      "2.1094517707824707\n",
      "2.102715253829956\n",
      "2.1064083576202393\n",
      "2.0997211933135986\n",
      "2.1034767627716064\n",
      "2.096837043762207\n",
      "2.1006529331207275\n",
      "2.094057321548462\n",
      "2.0979301929473877\n",
      "2.0913779735565186\n",
      "2.0953052043914795\n",
      "2.0887928009033203\n",
      "2.0927720069885254\n",
      "2.0862977504730225\n",
      "2.0903263092041016\n",
      "2.0838890075683594\n",
      "2.0879642963409424\n",
      "2.081561326980591\n",
      "2.085681438446045\n",
      "2.0793116092681885\n",
      "2.0834743976593018\n",
      "2.0771358013153076\n",
      "2.0813398361206055\n"
     ]
    }
   ],
   "source": [
    "import torch.nn.functional as F\n",
    "for k in range(100):\n",
    "  \n",
    "  # forward pass\n",
    "  xenc = F.one_hot(xs, num_classes=len(chars)).float() # input to the network: one-hot encoding\n",
    "  logits = torch.matmul(xenc, W) # predict log-counts\n",
    "  counts = logits.exp() # counts, equivalent to N\n",
    "  probs = counts / counts.sum(1, keepdims=True) # probabilities for next character\n",
    "  loss = -probs[torch.arange(num), ys].log().mean() + 0.01*(W**2).mean()\n",
    "  print(loss.item())\n",
    "  \n",
    "  # backward pass\n",
    "  W.grad = None # set to zero the gradient\n",
    "  loss.backward()\n",
    "  \n",
    "  # update\n",
    "  W.data += -50 * W.grad"
   ]
  },
  {
   "cell_type": "code",
   "execution_count": 129,
   "id": "a7fb6e94-0bbe-4d8e-9f2b-bdc2a9ec124f",
   "metadata": {},
   "outputs": [
    {
     "data": {
      "text/plain": [
       "tensor([[nan, nan, nan,  ..., nan, nan, nan],\n",
       "        [nan, nan, nan,  ..., nan, nan, nan],\n",
       "        [nan, nan, nan,  ..., nan, nan, nan],\n",
       "        ...,\n",
       "        [nan, nan, nan,  ..., nan, nan, nan],\n",
       "        [nan, nan, nan,  ..., nan, nan, nan],\n",
       "        [nan, nan, nan,  ..., nan, nan, nan]], requires_grad=True)"
      ]
     },
     "execution_count": 129,
     "metadata": {},
     "output_type": "execute_result"
    }
   ],
   "source": [
    "weights"
   ]
  },
  {
   "cell_type": "code",
   "execution_count": 103,
   "id": "65ff6a6d-17b2-4c44-9e85-f217affe6a6d",
   "metadata": {},
   "outputs": [
    {
     "data": {
      "text/plain": [
       "tensor(62.5857, grad_fn=<DivBackward0>)"
      ]
     },
     "execution_count": 103,
     "metadata": {},
     "output_type": "execute_result"
    }
   ],
   "source": [
    "total/len(names)"
   ]
  },
  {
   "cell_type": "code",
   "execution_count": 26,
   "id": "e3a0d722-4735-4f99-bb2a-3fd9bebdbc0f",
   "metadata": {},
   "outputs": [],
   "source": [
    "import torch\n",
    "import torch.nn.functional as F\n",
    "chars2int = {j:i for i,j in enumerate(chars)}"
   ]
  },
  {
   "cell_type": "code",
   "execution_count": 201,
   "id": "74f763b7-45d4-4c7f-9b55-0aaaae0b5f82",
   "metadata": {},
   "outputs": [],
   "source": [
    "weights = torch.rand([len(chars), len(chars)], requires_grad=True)"
   ]
  },
  {
   "cell_type": "code",
   "execution_count": 170,
   "id": "70fec762-44a6-4f2d-838e-a3bc10779989",
   "metadata": {},
   "outputs": [
    {
     "data": {
      "text/plain": [
       "tensor(0., grad_fn=<MinBackward1>)"
      ]
     },
     "execution_count": 170,
     "metadata": {},
     "output_type": "execute_result"
    }
   ],
   "source": [
    "out.min()"
   ]
  },
  {
   "cell_type": "code",
   "execution_count": 177,
   "id": "ac8783b1-f266-4012-ba11-f5e2f5315fbb",
   "metadata": {},
   "outputs": [
    {
     "data": {
      "text/plain": [
       "tensor(0., grad_fn=<UnbindBackward0>)"
      ]
     },
     "execution_count": 177,
     "metadata": {},
     "output_type": "execute_result"
    }
   ],
   "source": [
    "min(out)"
   ]
  },
  {
   "cell_type": "code",
   "execution_count": 194,
   "id": "c71d8ce6-8565-42a7-830f-41f5a34e47da",
   "metadata": {},
   "outputs": [
    {
     "data": {
      "text/plain": [
       "tensor([1.1000, 2.1000])"
      ]
     },
     "execution_count": 194,
     "metadata": {},
     "output_type": "execute_result"
    }
   ],
   "source": [
    "torch.tensor([1, 2]) + 0.1"
   ]
  },
  {
   "cell_type": "code",
   "execution_count": 208,
   "id": "b9607083-a40f-4e4b-8946-787afef55d3a",
   "metadata": {},
   "outputs": [
    {
     "name": "stdout",
     "output_type": "stream",
     "text": [
      "tensor(44.9318, grad_fn=<DivBackward0>)\n",
      "tensor(44.9864, grad_fn=<DivBackward0>)\n",
      "tensor(44.9819, grad_fn=<DivBackward0>)\n"
     ]
    },
    {
     "ename": "KeyboardInterrupt",
     "evalue": "",
     "output_type": "error",
     "traceback": [
      "\u001b[0;31m---------------------------------------------------------------------------\u001b[0m",
      "\u001b[0;31mKeyboardInterrupt\u001b[0m                         Traceback (most recent call last)",
      "\u001b[0;32m/var/folders/fm/b7zttxvj0g113b2zbcmnzhgr0000gn/T/ipykernel_12843/1673943887.py\u001b[0m in \u001b[0;36m<module>\u001b[0;34m\u001b[0m\n\u001b[1;32m     19\u001b[0m         \u001b[0mtotal_loss\u001b[0m \u001b[0;34m+=\u001b[0m \u001b[0mbatch_loss\u001b[0m\u001b[0;34m\u001b[0m\u001b[0;34m\u001b[0m\u001b[0m\n\u001b[1;32m     20\u001b[0m         \u001b[0;31m#print(batch_loss)\u001b[0m\u001b[0;34m\u001b[0m\u001b[0;34m\u001b[0m\u001b[0;34m\u001b[0m\u001b[0m\n\u001b[0;32m---> 21\u001b[0;31m         \u001b[0mbatch_loss\u001b[0m\u001b[0;34m.\u001b[0m\u001b[0mbackward\u001b[0m\u001b[0;34m(\u001b[0m\u001b[0;34m)\u001b[0m\u001b[0;34m\u001b[0m\u001b[0;34m\u001b[0m\u001b[0m\n\u001b[0m\u001b[1;32m     22\u001b[0m         \u001b[0moptimizer\u001b[0m\u001b[0;34m.\u001b[0m\u001b[0mstep\u001b[0m\u001b[0;34m(\u001b[0m\u001b[0;34m)\u001b[0m\u001b[0;34m\u001b[0m\u001b[0;34m\u001b[0m\u001b[0m\n\u001b[1;32m     23\u001b[0m     \u001b[0mprint\u001b[0m\u001b[0;34m(\u001b[0m\u001b[0mtotal_loss\u001b[0m\u001b[0;34m/\u001b[0m\u001b[0mlen\u001b[0m\u001b[0;34m(\u001b[0m\u001b[0mnames\u001b[0m\u001b[0;34m)\u001b[0m\u001b[0;34m)\u001b[0m\u001b[0;34m\u001b[0m\u001b[0;34m\u001b[0m\u001b[0m\n",
      "\u001b[0;32m~/saj_env/lib/python3.9/site-packages/torch/_tensor.py\u001b[0m in \u001b[0;36mbackward\u001b[0;34m(self, gradient, retain_graph, create_graph, inputs)\u001b[0m\n\u001b[1;32m    394\u001b[0m                 \u001b[0mcreate_graph\u001b[0m\u001b[0;34m=\u001b[0m\u001b[0mcreate_graph\u001b[0m\u001b[0;34m,\u001b[0m\u001b[0;34m\u001b[0m\u001b[0;34m\u001b[0m\u001b[0m\n\u001b[1;32m    395\u001b[0m                 inputs=inputs)\n\u001b[0;32m--> 396\u001b[0;31m         \u001b[0mtorch\u001b[0m\u001b[0;34m.\u001b[0m\u001b[0mautograd\u001b[0m\u001b[0;34m.\u001b[0m\u001b[0mbackward\u001b[0m\u001b[0;34m(\u001b[0m\u001b[0mself\u001b[0m\u001b[0;34m,\u001b[0m \u001b[0mgradient\u001b[0m\u001b[0;34m,\u001b[0m \u001b[0mretain_graph\u001b[0m\u001b[0;34m,\u001b[0m \u001b[0mcreate_graph\u001b[0m\u001b[0;34m,\u001b[0m \u001b[0minputs\u001b[0m\u001b[0;34m=\u001b[0m\u001b[0minputs\u001b[0m\u001b[0;34m)\u001b[0m\u001b[0;34m\u001b[0m\u001b[0;34m\u001b[0m\u001b[0m\n\u001b[0m\u001b[1;32m    397\u001b[0m \u001b[0;34m\u001b[0m\u001b[0m\n\u001b[1;32m    398\u001b[0m     \u001b[0;32mdef\u001b[0m \u001b[0mregister_hook\u001b[0m\u001b[0;34m(\u001b[0m\u001b[0mself\u001b[0m\u001b[0;34m,\u001b[0m \u001b[0mhook\u001b[0m\u001b[0;34m)\u001b[0m\u001b[0;34m:\u001b[0m\u001b[0;34m\u001b[0m\u001b[0;34m\u001b[0m\u001b[0m\n",
      "\u001b[0;32m~/saj_env/lib/python3.9/site-packages/torch/autograd/__init__.py\u001b[0m in \u001b[0;36mbackward\u001b[0;34m(tensors, grad_tensors, retain_graph, create_graph, grad_variables, inputs)\u001b[0m\n\u001b[1;32m    171\u001b[0m     \u001b[0;31m# some Python versions print out the first line of a multi-line function\u001b[0m\u001b[0;34m\u001b[0m\u001b[0;34m\u001b[0m\u001b[0;34m\u001b[0m\u001b[0m\n\u001b[1;32m    172\u001b[0m     \u001b[0;31m# calls in the traceback and some print out the last line\u001b[0m\u001b[0;34m\u001b[0m\u001b[0;34m\u001b[0m\u001b[0;34m\u001b[0m\u001b[0m\n\u001b[0;32m--> 173\u001b[0;31m     Variable._execution_engine.run_backward(  # Calls into the C++ engine to run the backward pass\n\u001b[0m\u001b[1;32m    174\u001b[0m         \u001b[0mtensors\u001b[0m\u001b[0;34m,\u001b[0m \u001b[0mgrad_tensors_\u001b[0m\u001b[0;34m,\u001b[0m \u001b[0mretain_graph\u001b[0m\u001b[0;34m,\u001b[0m \u001b[0mcreate_graph\u001b[0m\u001b[0;34m,\u001b[0m \u001b[0minputs\u001b[0m\u001b[0;34m,\u001b[0m\u001b[0;34m\u001b[0m\u001b[0;34m\u001b[0m\u001b[0m\n\u001b[1;32m    175\u001b[0m         allow_unreachable=True, accumulate_grad=True)  # Calls into the C++ engine to run the backward pass\n",
      "\u001b[0;31mKeyboardInterrupt\u001b[0m: "
     ]
    }
   ],
   "source": [
    "optimizer = torch.optim.SGD([weights], lr=1e-2)\n",
    "iterations = 20\n",
    "for _ in range(iterations):\n",
    "    total_loss = 0\n",
    "    for street in names:\n",
    "        batch_loss = 0\n",
    "        for pair in zip(street, street[1:]):\n",
    "            #print(pair)\n",
    "            inp = F.one_hot(torch.tensor(chars2int[pair[0]]), num_classes = len(chars)).float()\n",
    "            target = F.one_hot(torch.tensor(chars2int[pair[1]]), num_classes = len(chars)).float()\n",
    "            out = torch.matmul(weights, inp)\n",
    "            out = out - out.min() + 1e-3\n",
    "            out = out/out.sum() # or softmax\n",
    "            likelihood = torch.matmul(out, target)\n",
    "            #print(likelihood, out)\n",
    "            nll = -torch.log(likelihood)\n",
    "            #print(nll)\n",
    "            batch_loss += nll\n",
    "        total_loss += batch_loss\n",
    "        #print(batch_loss)\n",
    "        batch_loss.backward()\n",
    "        optimizer.step()\n",
    "    print(total_loss/len(names))"
   ]
  },
  {
   "cell_type": "code",
   "execution_count": 141,
   "id": "475d8432-27e6-469d-8bdf-bc3ba1d0480f",
   "metadata": {},
   "outputs": [
    {
     "data": {
      "text/plain": [
       "tensor([[ 0.2481,  0.3928,  0.5752,  ...,  0.0691,  0.7404,  0.4393],\n",
       "        [ 0.1059,  0.1935,  0.8688,  ...,  0.4674,  0.9046,  0.4681],\n",
       "        [ 0.1003,  0.0408,  0.0404,  ..., -0.0074,  0.1837,  0.6896],\n",
       "        ...,\n",
       "        [ 0.5165,  0.7170,  0.1036,  ..., -0.0599,  0.4424,  0.5370],\n",
       "        [ 0.9685,  0.9567,  0.3389,  ..., -0.0942,  0.0415,  0.4950],\n",
       "        [ 0.0741,  0.5331,  0.9845,  ...,  0.7413,  0.6096,  0.4676]],\n",
       "       requires_grad=True)"
      ]
     },
     "execution_count": 141,
     "metadata": {},
     "output_type": "execute_result"
    }
   ],
   "source": [
    "tensor(47.9957, grad_fn=<DivBackward0>)\n",
    "tensor(46.6217, grad_fn=<DivBackward0>)\n",
    "tensor(45.9667, grad_fn=<DivBackward0>)\n"
   ]
  },
  {
   "cell_type": "code",
   "execution_count": 106,
   "id": "e9976f41-ff4f-4212-b98d-b41344598a9b",
   "metadata": {},
   "outputs": [
    {
     "data": {
      "text/plain": [
       "tensor([0.0175, 0.0275, 0.0173, 0.0248, 0.0136, 0.0186, 0.0280, 0.0199, 0.0036,\n",
       "        0.0092, 0.0101, 0.0191, 0.0147, 0.0163, 0.0275, 0.0215, 0.0065, 0.0290,\n",
       "        0.0132, 0.0217, 0.0149, 0.0297, 0.0273, 0.0185, 0.0086, 0.0058, 0.0033,\n",
       "        0.0011, 0.0177, 0.0196, 0.0294, 0.0225, 0.0321, 0.0125, 0.0285, 0.0130,\n",
       "        0.0198, 0.0046, 0.0012, 0.0305, 0.0033, 0.0122, 0.0282, 0.0109, 0.0231,\n",
       "        0.0265, 0.0214, 0.0014, 0.0190, 0.0002, 0.0126, 0.0113, 0.0311, 0.0185,\n",
       "        0.0268, 0.0136, 0.0163, 0.0231], grad_fn=<DivBackward0>)"
      ]
     },
     "execution_count": 106,
     "metadata": {},
     "output_type": "execute_result"
    }
   ],
   "source": [
    "out"
   ]
  },
  {
   "cell_type": "code",
   "execution_count": 50,
   "id": "091c0498-5c9b-40f3-a0c4-022e5321a4cd",
   "metadata": {},
   "outputs": [
    {
     "data": {
      "text/plain": [
       "tensor(1.)"
      ]
     },
     "execution_count": 50,
     "metadata": {},
     "output_type": "execute_result"
    }
   ],
   "source": [
    "(out/out.sum()).sum()"
   ]
  },
  {
   "cell_type": "code",
   "execution_count": 66,
   "id": "3912cba3-214a-4cf0-b713-152f62663681",
   "metadata": {},
   "outputs": [
    {
     "data": {
      "text/plain": [
       "tensor([0, 1, 2, 3, 4])"
      ]
     },
     "execution_count": 66,
     "metadata": {},
     "output_type": "execute_result"
    }
   ],
   "source": [
    "torch.arange(5)"
   ]
  },
  {
   "cell_type": "code",
   "execution_count": 164,
   "id": "4d42cba1-ae09-4b25-b9da-37e93c8e6b0f",
   "metadata": {},
   "outputs": [
    {
     "ename": "IndexError",
     "evalue": "Dimension out of range (expected to be in range of [-1, 0], but got 1)",
     "output_type": "error",
     "traceback": [
      "\u001b[0;31m---------------------------------------------------------------------------\u001b[0m",
      "\u001b[0;31mIndexError\u001b[0m                                Traceback (most recent call last)",
      "\u001b[0;32m/var/folders/fm/b7zttxvj0g113b2zbcmnzhgr0000gn/T/ipykernel_12843/1493641719.py\u001b[0m in \u001b[0;36m<module>\u001b[0;34m\u001b[0m\n\u001b[0;32m----> 1\u001b[0;31m \u001b[0mtorch\u001b[0m\u001b[0;34m.\u001b[0m\u001b[0mnn\u001b[0m\u001b[0;34m.\u001b[0m\u001b[0mfunctional\u001b[0m\u001b[0;34m.\u001b[0m\u001b[0mnormalize\u001b[0m\u001b[0;34m(\u001b[0m\u001b[0mtorch\u001b[0m\u001b[0;34m.\u001b[0m\u001b[0mtensor\u001b[0m\u001b[0;34m(\u001b[0m\u001b[0;34m[\u001b[0m\u001b[0;36m1.0\u001b[0m\u001b[0;34m,\u001b[0m \u001b[0;36m2.0\u001b[0m\u001b[0;34m]\u001b[0m\u001b[0;34m)\u001b[0m\u001b[0;34m)\u001b[0m\u001b[0;34m\u001b[0m\u001b[0;34m\u001b[0m\u001b[0m\n\u001b[0m",
      "\u001b[0;32m~/saj_env/lib/python3.9/site-packages/torch/nn/functional.py\u001b[0m in \u001b[0;36mnormalize\u001b[0;34m(input, p, dim, eps, out)\u001b[0m\n\u001b[1;32m   4618\u001b[0m         \u001b[0;32mreturn\u001b[0m \u001b[0mhandle_torch_function\u001b[0m\u001b[0;34m(\u001b[0m\u001b[0mnormalize\u001b[0m\u001b[0;34m,\u001b[0m \u001b[0;34m(\u001b[0m\u001b[0minput\u001b[0m\u001b[0;34m,\u001b[0m \u001b[0mout\u001b[0m\u001b[0;34m)\u001b[0m\u001b[0;34m,\u001b[0m \u001b[0minput\u001b[0m\u001b[0;34m,\u001b[0m \u001b[0mp\u001b[0m\u001b[0;34m=\u001b[0m\u001b[0mp\u001b[0m\u001b[0;34m,\u001b[0m \u001b[0mdim\u001b[0m\u001b[0;34m=\u001b[0m\u001b[0mdim\u001b[0m\u001b[0;34m,\u001b[0m \u001b[0meps\u001b[0m\u001b[0;34m=\u001b[0m\u001b[0meps\u001b[0m\u001b[0;34m,\u001b[0m \u001b[0mout\u001b[0m\u001b[0;34m=\u001b[0m\u001b[0mout\u001b[0m\u001b[0;34m)\u001b[0m\u001b[0;34m\u001b[0m\u001b[0;34m\u001b[0m\u001b[0m\n\u001b[1;32m   4619\u001b[0m     \u001b[0;32mif\u001b[0m \u001b[0mout\u001b[0m \u001b[0;32mis\u001b[0m \u001b[0;32mNone\u001b[0m\u001b[0;34m:\u001b[0m\u001b[0;34m\u001b[0m\u001b[0;34m\u001b[0m\u001b[0m\n\u001b[0;32m-> 4620\u001b[0;31m         \u001b[0mdenom\u001b[0m \u001b[0;34m=\u001b[0m \u001b[0minput\u001b[0m\u001b[0;34m.\u001b[0m\u001b[0mnorm\u001b[0m\u001b[0;34m(\u001b[0m\u001b[0mp\u001b[0m\u001b[0;34m,\u001b[0m \u001b[0mdim\u001b[0m\u001b[0;34m,\u001b[0m \u001b[0mkeepdim\u001b[0m\u001b[0;34m=\u001b[0m\u001b[0;32mTrue\u001b[0m\u001b[0;34m)\u001b[0m\u001b[0;34m.\u001b[0m\u001b[0mclamp_min\u001b[0m\u001b[0;34m(\u001b[0m\u001b[0meps\u001b[0m\u001b[0;34m)\u001b[0m\u001b[0;34m.\u001b[0m\u001b[0mexpand_as\u001b[0m\u001b[0;34m(\u001b[0m\u001b[0minput\u001b[0m\u001b[0;34m)\u001b[0m\u001b[0;34m\u001b[0m\u001b[0;34m\u001b[0m\u001b[0m\n\u001b[0m\u001b[1;32m   4621\u001b[0m         \u001b[0;32mreturn\u001b[0m \u001b[0minput\u001b[0m \u001b[0;34m/\u001b[0m \u001b[0mdenom\u001b[0m\u001b[0;34m\u001b[0m\u001b[0;34m\u001b[0m\u001b[0m\n\u001b[1;32m   4622\u001b[0m     \u001b[0;32melse\u001b[0m\u001b[0;34m:\u001b[0m\u001b[0;34m\u001b[0m\u001b[0;34m\u001b[0m\u001b[0m\n",
      "\u001b[0;32m~/saj_env/lib/python3.9/site-packages/torch/_tensor.py\u001b[0m in \u001b[0;36mnorm\u001b[0;34m(self, p, dim, keepdim, dtype)\u001b[0m\n\u001b[1;32m    529\u001b[0m         \u001b[0;32mif\u001b[0m \u001b[0mhas_torch_function_unary\u001b[0m\u001b[0;34m(\u001b[0m\u001b[0mself\u001b[0m\u001b[0;34m)\u001b[0m\u001b[0;34m:\u001b[0m\u001b[0;34m\u001b[0m\u001b[0;34m\u001b[0m\u001b[0m\n\u001b[1;32m    530\u001b[0m             \u001b[0;32mreturn\u001b[0m \u001b[0mhandle_torch_function\u001b[0m\u001b[0;34m(\u001b[0m\u001b[0mTensor\u001b[0m\u001b[0;34m.\u001b[0m\u001b[0mnorm\u001b[0m\u001b[0;34m,\u001b[0m \u001b[0;34m(\u001b[0m\u001b[0mself\u001b[0m\u001b[0;34m,\u001b[0m\u001b[0;34m)\u001b[0m\u001b[0;34m,\u001b[0m \u001b[0mself\u001b[0m\u001b[0;34m,\u001b[0m \u001b[0mp\u001b[0m\u001b[0;34m=\u001b[0m\u001b[0mp\u001b[0m\u001b[0;34m,\u001b[0m \u001b[0mdim\u001b[0m\u001b[0;34m=\u001b[0m\u001b[0mdim\u001b[0m\u001b[0;34m,\u001b[0m \u001b[0mkeepdim\u001b[0m\u001b[0;34m=\u001b[0m\u001b[0mkeepdim\u001b[0m\u001b[0;34m,\u001b[0m \u001b[0mdtype\u001b[0m\u001b[0;34m=\u001b[0m\u001b[0mdtype\u001b[0m\u001b[0;34m)\u001b[0m\u001b[0;34m\u001b[0m\u001b[0;34m\u001b[0m\u001b[0m\n\u001b[0;32m--> 531\u001b[0;31m         \u001b[0;32mreturn\u001b[0m \u001b[0mtorch\u001b[0m\u001b[0;34m.\u001b[0m\u001b[0mnorm\u001b[0m\u001b[0;34m(\u001b[0m\u001b[0mself\u001b[0m\u001b[0;34m,\u001b[0m \u001b[0mp\u001b[0m\u001b[0;34m,\u001b[0m \u001b[0mdim\u001b[0m\u001b[0;34m,\u001b[0m \u001b[0mkeepdim\u001b[0m\u001b[0;34m,\u001b[0m \u001b[0mdtype\u001b[0m\u001b[0;34m=\u001b[0m\u001b[0mdtype\u001b[0m\u001b[0;34m)\u001b[0m\u001b[0;34m\u001b[0m\u001b[0;34m\u001b[0m\u001b[0m\n\u001b[0m\u001b[1;32m    532\u001b[0m \u001b[0;34m\u001b[0m\u001b[0m\n\u001b[1;32m    533\u001b[0m     \u001b[0;32mdef\u001b[0m \u001b[0msolve\u001b[0m\u001b[0;34m(\u001b[0m\u001b[0mself\u001b[0m\u001b[0;34m,\u001b[0m \u001b[0mother\u001b[0m\u001b[0;34m)\u001b[0m\u001b[0;34m:\u001b[0m\u001b[0;34m\u001b[0m\u001b[0;34m\u001b[0m\u001b[0m\n",
      "\u001b[0;32m~/saj_env/lib/python3.9/site-packages/torch/functional.py\u001b[0m in \u001b[0;36mnorm\u001b[0;34m(input, p, dim, keepdim, out, dtype)\u001b[0m\n\u001b[1;32m   1493\u001b[0m         \u001b[0;32mif\u001b[0m \u001b[0mout\u001b[0m \u001b[0;32mis\u001b[0m \u001b[0;32mNone\u001b[0m\u001b[0;34m:\u001b[0m\u001b[0;34m\u001b[0m\u001b[0;34m\u001b[0m\u001b[0m\n\u001b[1;32m   1494\u001b[0m             \u001b[0;32mif\u001b[0m \u001b[0mdtype\u001b[0m \u001b[0;32mis\u001b[0m \u001b[0;32mNone\u001b[0m\u001b[0;34m:\u001b[0m\u001b[0;34m\u001b[0m\u001b[0;34m\u001b[0m\u001b[0m\n\u001b[0;32m-> 1495\u001b[0;31m                 \u001b[0;32mreturn\u001b[0m \u001b[0m_VF\u001b[0m\u001b[0;34m.\u001b[0m\u001b[0mnorm\u001b[0m\u001b[0;34m(\u001b[0m\u001b[0minput\u001b[0m\u001b[0;34m,\u001b[0m \u001b[0mp\u001b[0m\u001b[0;34m,\u001b[0m \u001b[0m_dim\u001b[0m\u001b[0;34m,\u001b[0m \u001b[0mkeepdim\u001b[0m\u001b[0;34m=\u001b[0m\u001b[0mkeepdim\u001b[0m\u001b[0;34m)\u001b[0m  \u001b[0;31m# type: ignore[attr-defined]\u001b[0m\u001b[0;34m\u001b[0m\u001b[0;34m\u001b[0m\u001b[0m\n\u001b[0m\u001b[1;32m   1496\u001b[0m             \u001b[0;32melse\u001b[0m\u001b[0;34m:\u001b[0m\u001b[0;34m\u001b[0m\u001b[0;34m\u001b[0m\u001b[0m\n\u001b[1;32m   1497\u001b[0m                 \u001b[0;32mreturn\u001b[0m \u001b[0m_VF\u001b[0m\u001b[0;34m.\u001b[0m\u001b[0mnorm\u001b[0m\u001b[0;34m(\u001b[0m\u001b[0minput\u001b[0m\u001b[0;34m,\u001b[0m \u001b[0mp\u001b[0m\u001b[0;34m,\u001b[0m \u001b[0m_dim\u001b[0m\u001b[0;34m,\u001b[0m \u001b[0mkeepdim\u001b[0m\u001b[0;34m=\u001b[0m\u001b[0mkeepdim\u001b[0m\u001b[0;34m,\u001b[0m \u001b[0mdtype\u001b[0m\u001b[0;34m=\u001b[0m\u001b[0mdtype\u001b[0m\u001b[0;34m)\u001b[0m  \u001b[0;31m# type: ignore[attr-defined]\u001b[0m\u001b[0;34m\u001b[0m\u001b[0;34m\u001b[0m\u001b[0m\n",
      "\u001b[0;31mIndexError\u001b[0m: Dimension out of range (expected to be in range of [-1, 0], but got 1)"
     ]
    }
   ],
   "source": [
    "torch.nn.functional.normalize(torch.tensor([1.0, 2.0]))"
   ]
  },
  {
   "cell_type": "code",
   "execution_count": null,
   "id": "bb2ca8cd-b3f3-40e0-887c-bd6950c5d656",
   "metadata": {},
   "outputs": [],
   "source": [
    "# Use python for one-hot encoding\n",
    "# Initialize weights randn\n",
    "# Interpret output of network as log(probabilities)\n",
    "# Use basic gradient descent i.e W = W - alpha * W.grad"
   ]
  },
  {
   "cell_type": "code",
   "execution_count": null,
   "id": "2b30db56-f615-4097-9ba6-43bf700fb0e3",
   "metadata": {},
   "outputs": [],
   "source": [
    "def chars2vec(char: str) -> list:\n",
    "    vec = [0]*len(alphabet)\n",
    "    vec[char2int[char]] = 1\n",
    "    return vec"
   ]
  },
  {
   "cell_type": "code",
   "execution_count": 2,
   "id": "57473b46-6212-4921-a6ad-5dc4dc900f25",
   "metadata": {},
   "outputs": [
    {
     "data": {
      "text/plain": [
       "['a', 'b', 'c']"
      ]
     },
     "execution_count": 2,
     "metadata": {},
     "output_type": "execute_result"
    }
   ],
   "source": [
    "a = {\"a\": 1, \"b\": 2, \"c\":3}\n",
    "[i for i in a]"
   ]
  },
  {
   "cell_type": "code",
   "execution_count": null,
   "id": "61d8a634-704e-4603-997f-6428d2c1cbb3",
   "metadata": {},
   "outputs": [],
   "source": [
    "for _ in range(10): \n",
    "    total_loss = 0\n",
    "    for name in names:\n",
    "        word_loss = 0\n",
    "        for pair in zip(name, name[1:]):\n",
    "            inp, out = pair\n",
    "            y1 = torch.matmul(weights, torch.tensor(char2vec(inp)).float())\n",
    "            y1 = y1 - max(y1)\n",
    "            y2 = y1.exp()\n",
    "            y3 = y2 / y2.sum()\n",
    "            if torch.isnan(y3).any():\n",
    "                print(y1, y2, y3)\n",
    "                \n",
    "            #if _ == 1:\n",
    "            #    print(\"y\", y)\n",
    "            prob = torch.matmul(y3, torch.tensor(char2vec(out)).float())\n",
    "            #if _ == 1:\n",
    "            #    print(\"prob\", prob)\n",
    "            word_loss += -(prob.log())\n",
    "            #print(word_loss)\n",
    "        total_loss += word_loss\n",
    "    print(weights.max(), \"adf\")\n",
    "    print(\"avg_loss\" ,total_loss/len(names))\n",
    "    weights.grad = None\n",
    "    total_loss.backward()\n",
    "    weights.data = weights.data - 1 * weights.grad"
   ]
  },
  {
   "cell_type": "markdown",
   "id": "180f9d59-939e-4ee2-bf5c-6e1f78a6b762",
   "metadata": {},
   "source": [
    "# n-gram generalization"
   ]
  },
  {
   "cell_type": "code",
   "execution_count": 165,
   "id": "c5ff0a04-720a-408d-816b-292e710c79cb",
   "metadata": {},
   "outputs": [
    {
     "data": {
      "text/plain": [
       "['$$$$$$Aargauerstrasse$$$$$$',\n",
       " '$$$$$$Abeggweg$$$$$$',\n",
       " '$$$$$$Abendweg$$$$$$',\n",
       " '$$$$$$Ackermannstrasse$$$$$$',\n",
       " '$$$$$$Ackersteinstrasse$$$$$$']"
      ]
     },
     "execution_count": 165,
     "metadata": {},
     "output_type": "execute_result"
    }
   ],
   "source": [
    "n = 7\n",
    "names = [\"$\"*(n-1)+line.rstrip()+\"$\"*(n-1) for line in open(\"../data/streets_zh.txt\")]\n",
    "names[:5]"
   ]
  },
  {
   "cell_type": "code",
   "execution_count": 166,
   "id": "e78f6d3c-af32-43f5-bcfd-cd33782c3cf1",
   "metadata": {},
   "outputs": [],
   "source": [
    "chars = set()\n",
    "all_ngrams = set()\n",
    "freq_per_char = dict()\n",
    "\n",
    "for name in names:\n",
    "    ngrams = [name[i:n+i] for i in range(len(name)-n+1)]\n",
    "    for ngram in ngrams:\n",
    "        x, y = ngram[:-1], ngram[-1]\n",
    "        all_ngrams.add(x+y)\n",
    "        chars.add(y)\n",
    "        if x in freq_per_char:\n",
    "            freq_per_char[x][y] = 1 + freq_per_char[x].get(y, 0)\n",
    "        else:\n",
    "            freq_per_char[x] = {y: 1}\n",
    "# normalize\n",
    "for k in freq_per_char.keys():\n",
    "    total = sum(list(freq_per_char[k].values()))\n",
    "    for v in freq_per_char[k]:\n",
    "        freq_per_char[k][v]/= total"
   ]
  },
  {
   "cell_type": "code",
   "execution_count": 167,
   "id": "5d13216b-6fcb-4fd0-9604-e57ad1fe3ac4",
   "metadata": {
    "tags": []
   },
   "outputs": [
    {
     "name": "stdout",
     "output_type": "stream",
     "text": [
      "$$$$$$Katharinenweg$\n",
      "$$$$$$Bellevueplatz$\n",
      "$$$$$$August-Forel-Strasse$\n",
      "$$$$$$Edelweissstrasse$\n",
      "$$$$$$Meisenweg$\n",
      "$$$$$$Enzenriedstrasse$\n",
      "$$$$$$Hürststrasse$\n",
      "$$$$$$Im Wingertobel$\n",
      "$$$$$$Marie-Curie-Platz$\n",
      "$$$$$$Seebahnstrasse$\n",
      "$$$$$$Zelghalde$\n",
      "$$$$$$Emil-Klöti-Strasse$\n",
      "$$$$$$Rosenbühlstrasse$\n",
      "$$$$$$Seminarstrasse$\n",
      "$$$$$$St. Annagasse$\n",
      "$$$$$$Stadelhoferstrasse$\n",
      "$$$$$$Erika-Mann-Strasse$\n",
      "$$$$$$Kartausstrasse$\n",
      "$$$$$$Waldgartenstrasse$\n",
      "$$$$$$Lyrenweg$\n",
      "$$$$$$Nüschelerstrasse$\n",
      "$$$$$$Hofackerstrasse$\n",
      "$$$$$$Kilchbergsteig$\n",
      "$$$$$$Fischerweg$\n",
      "$$$$$$Sallenbachweg$\n",
      "$$$$$$Roswiesen$\n",
      "$$$$$$Keltenstrasse$\n",
      "$$$$$$Baschligplatz$\n",
      "$$$$$$Nebelbachstrasse$\n",
      "$$$$$$Waidstrasse$\n",
      "$$$$$$Lehfrauenweg$\n",
      "$$$$$$Schmelzbergstrasse$\n",
      "$$$$$$Heerenwies$\n",
      "$$$$$$Kranzweg$\n",
      "$$$$$$Sihlquai$\n",
      "$$$$$$Im Hegi$\n",
      "$$$$$$Silvrettaweg$\n",
      "$$$$$$Hottingerberg$\n",
      "$$$$$$Klusstrasse$\n",
      "$$$$$$Rebhaldenstrasse$\n",
      "$$$$$$Weitlingweg$\n",
      "$$$$$$Mittelbergstrasse$\n",
      "$$$$$$Nüschelerstrasse$\n",
      "$$$$$$Kienastenwies$\n",
      "$$$$$$Louis-Conne-Weg$\n",
      "$$$$$$Gutenbergsteig$\n",
      "$$$$$$Hauriweg$\n",
      "$$$$$$Binderweg$\n",
      "$$$$$$Beckhammer$\n",
      "$$$$$$Wissmannstrasse$\n",
      "$$$$$$Im Stückler$\n",
      "$$$$$$Hamberger-Weg$\n",
      "$$$$$$Jungholzweg$\n",
      "$$$$$$Rebhügelstrasse$\n",
      "$$$$$$Hardaustrasse$\n",
      "$$$$$$Am Rank$\n",
      "$$$$$$Caspar-Wüst-Strasse$\n",
      "$$$$$$Erligatterweg$\n",
      "$$$$$$Bachmannstrasse$\n",
      "$$$$$$Eigenwasenstrasse$\n",
      "$$$$$$Rotachstrasse$\n",
      "$$$$$$Uetlibergweg$\n",
      "$$$$$$Mirabellenweg$\n",
      "$$$$$$Felsenrainweg$\n",
      "$$$$$$Moränenstrasse$\n",
      "$$$$$$Luchswiesenstrasse$\n",
      "$$$$$$Rolandstrasse$\n",
      "$$$$$$Nägelihof$\n",
      "$$$$$$Heimatstrasse$\n",
      "$$$$$$Horenstrasse$\n",
      "$$$$$$Stüssistrasse$\n",
      "$$$$$$Fliederstrasse$\n",
      "$$$$$$Leonhardstrasse$\n",
      "$$$$$$Färberstrasse$\n",
      "$$$$$$Vogelsangstrasse$\n",
      "$$$$$$Delphinstrasse$\n",
      "$$$$$$Kreuzwiesen$\n",
      "$$$$$$Rehalpstrasse$\n",
      "$$$$$$Wolframplatz$\n",
      "$$$$$$Stöckentobelstrasse$\n",
      "$$$$$$Glärnischstrasse$\n",
      "$$$$$$Herrligweg$\n",
      "$$$$$$Dietzingerstrasse$\n",
      "$$$$$$Sternwartstrasse$\n",
      "$$$$$$Kelchweg$\n",
      "$$$$$$Honrainweg$\n",
      "$$$$$$Würzwies$\n",
      "$$$$$$Wuhrstrasse$\n",
      "$$$$$$Blümlisalpstrasse$\n",
      "$$$$$$Moussonstrasse$\n",
      "$$$$$$Drehergasse$\n",
      "$$$$$$Stockerstrasse$\n",
      "$$$$$$Gletscherstrasse$\n",
      "$$$$$$Hauswiesenstrasse$\n",
      "$$$$$$Zum Sillerwiesenstrasse$\n",
      "$$$$$$Hardhof$\n",
      "$$$$$$Schoffelgasse$\n",
      "$$$$$$Schönleinstrasse$\n",
      "$$$$$$Häringstrasse$\n",
      "$$$$$$Physikstrasse$\n"
     ]
    }
   ],
   "source": [
    "from random import choices\n",
    "res = []\n",
    "for _ in range(100):\n",
    "    gen = [\"$\"]*(n-1)\n",
    "    for _ in range(30):\n",
    "        c = \"\".join(gen[-(n-1):])\n",
    "        samples = list(freq_per_char[c].keys())\n",
    "        p_samples = list(freq_per_char[c].values())\n",
    "        next_c = choices(samples, p_samples)[0]\n",
    "        gen.append(next_c)\n",
    "        if next_c==\"$\":\n",
    "            break\n",
    "    res.append(\"\".join(gen))\n",
    "    print(\"\".join(gen))"
   ]
  },
  {
   "cell_type": "code",
   "execution_count": 168,
   "id": "f1eedef6-e5b0-489d-abf0-e0c56795d4ca",
   "metadata": {},
   "outputs": [
    {
     "name": "stdout",
     "output_type": "stream",
     "text": [
      "$$$$$$Enzenriedstrasse$\n",
      "$$$$$$Im Wingertobel$\n",
      "$$$$$$Waldgartenstrasse$\n",
      "$$$$$$Sallenbachweg$\n",
      "$$$$$$Roswiesen$\n",
      "$$$$$$Heerenwies$\n",
      "$$$$$$Hottingerberg$\n",
      "$$$$$$Mittelbergstrasse$\n",
      "$$$$$$Kienastenwies$\n",
      "$$$$$$Gutenbergsteig$\n",
      "$$$$$$Hamberger-Weg$\n",
      "$$$$$$Bachmannstrasse$\n",
      "$$$$$$Mirabellenweg$\n",
      "$$$$$$Horenstrasse$\n",
      "$$$$$$Zum Sillerwiesenstrasse$\n"
     ]
    }
   ],
   "source": [
    "for fake in res:\n",
    "    if fake+(n-2)*\"$\" not in names:\n",
    "        print(fake)"
   ]
  },
  {
   "cell_type": "code",
   "execution_count": 59,
   "id": "f9549f00-2ec1-4bc7-a721-1f1e76d821df",
   "metadata": {},
   "outputs": [
    {
     "data": {
      "text/plain": [
       "'$'"
      ]
     },
     "execution_count": 59,
     "metadata": {},
     "output_type": "execute_result"
    }
   ],
   "source": [
    "name[-1:]"
   ]
  },
  {
   "cell_type": "code",
   "execution_count": 32,
   "id": "8649205a-cbbf-4090-b95b-8f1c9f115ca9",
   "metadata": {},
   "outputs": [
    {
     "data": {
      "text/plain": [
       "{'$$A': 1,\n",
       " '$Aa': 1,\n",
       " 'Aar': 1,\n",
       " 'arg': 1,\n",
       " 'rga': 1,\n",
       " 'gau': 1,\n",
       " 'aue': 1,\n",
       " 'uer': 1,\n",
       " 'ers': 1,\n",
       " 'rst': 1,\n",
       " 'str': 1,\n",
       " 'tra': 1,\n",
       " 'ras': 1,\n",
       " 'ass': 1,\n",
       " 'sse': 1,\n",
       " 'se$': 1,\n",
       " 'e$$': 1}"
      ]
     },
     "execution_count": 32,
     "metadata": {},
     "output_type": "execute_result"
    }
   ],
   "source": [
    "freq_per_char = {i : dict() for i in chars}\n",
    "for bigram, f in freq.items():\n",
    "    i, j = bigram\n",
    "    freq_per_char[i][j] = f"
   ]
  },
  {
   "cell_type": "code",
   "execution_count": 31,
   "id": "1dc474b8-4c72-42ac-8de7-6ae5b82614c6",
   "metadata": {},
   "outputs": [
    {
     "data": {
      "text/plain": [
       "'$$Aargauerstrasse$$'"
      ]
     },
     "execution_count": 31,
     "metadata": {},
     "output_type": "execute_result"
    }
   ],
   "source": [
    "name"
   ]
  },
  {
   "cell_type": "code",
   "execution_count": null,
   "id": "14a7c5ae-0b58-4e93-bfcf-1a366891bdb3",
   "metadata": {},
   "outputs": [],
   "source": []
  }
 ],
 "metadata": {
  "kernelspec": {
   "display_name": "Python 3 (ipykernel)",
   "language": "python",
   "name": "python3"
  },
  "language_info": {
   "codemirror_mode": {
    "name": "ipython",
    "version": 3
   },
   "file_extension": ".py",
   "mimetype": "text/x-python",
   "name": "python",
   "nbconvert_exporter": "python",
   "pygments_lexer": "ipython3",
   "version": "3.9.6"
  }
 },
 "nbformat": 4,
 "nbformat_minor": 5
}
