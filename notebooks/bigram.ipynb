{
 "cells": [
  {
   "cell_type": "markdown",
   "id": "b753400d-62b5-4bd2-acaa-9b2e1880dc07",
   "metadata": {},
   "source": [
    "## Modelling text through character-level bigrams"
   ]
  },
  {
   "cell_type": "code",
   "execution_count": 3,
   "id": "0ec25412-2e46-46d6-a3fc-46158baf1367",
   "metadata": {
    "tags": []
   },
   "outputs": [
    {
     "data": {
      "text/plain": [
       "['Aargauerstrasse',\n",
       " 'Abeggweg',\n",
       " 'Abendweg',\n",
       " 'Ackermannstrasse',\n",
       " 'Ackersteinstrasse']"
      ]
     },
     "execution_count": 3,
     "metadata": {},
     "output_type": "execute_result"
    }
   ],
   "source": [
    "names = [line.rstrip() for line in open(\"../data/streets_zh.txt\")]\n",
    "names[:5]"
   ]
  },
  {
   "cell_type": "code",
   "execution_count": 4,
   "id": "d6709882-c6e6-478a-88a9-55b3ab0c17e5",
   "metadata": {
    "tags": []
   },
   "outputs": [],
   "source": [
    "# Add $ to mark beginning and ending of names\n",
    "for i in range(len(names)):\n",
    "    names[i] = \"$\" + names[i] + \"$\""
   ]
  },
  {
   "cell_type": "code",
   "execution_count": 5,
   "id": "56455e28-150f-4840-87aa-173b15a88cd8",
   "metadata": {
    "tags": []
   },
   "outputs": [],
   "source": [
    "chars = set()\n",
    "bigrams = set()\n",
    "freq = dict()\n",
    "for street in names:\n",
    "    for pair in zip(street, street[1:]):\n",
    "            chars.add(pair[0])\n",
    "            bigrams.add(pair)\n",
    "            freq[pair] = 1+freq.get(pair, 0)"
   ]
  },
  {
   "cell_type": "code",
   "execution_count": 6,
   "id": "8268abed-d697-410a-b73f-119504b4ecf4",
   "metadata": {
    "tags": []
   },
   "outputs": [],
   "source": [
    "freq_per_char = {i : dict() for i in chars}\n",
    "for bigram, f in freq.items():\n",
    "    i, j = bigram\n",
    "    freq_per_char[i][j] = f"
   ]
  },
  {
   "cell_type": "code",
   "execution_count": 17,
   "id": "3f7eb12d-4e05-4a75-82cc-cd8c24823304",
   "metadata": {
    "tags": []
   },
   "outputs": [
    {
     "name": "stdout",
     "output_type": "stream",
     "text": [
      "$Mauf\n",
      "$Ziellchtrasersswilistrahisster\n",
      "$Bi\n",
      "$Ranweldwersseneg\n",
      "$Imgastrasckhg\n",
      "$Kaswanstranbsldenpphmaseralwe\n",
      "$Eke\n",
      "$Je\n",
      "$Be\n",
      "$Herasenge\n",
      "$Juratrasstrd-Schrtran\n",
      "$Alssstrasenebe\n",
      "$Häbersttghe\n",
      "$Re\n",
      "$Gikoffweg-Schraseg\n",
      "$Eg\n",
      "$Niv-Simpin-We\n",
      "$Are\n",
      "$Eykelalentzlzelle\n",
      "$Gise\n",
      "$Le\n",
      "$Heple\n",
      "$Antrblllastholba-Bof\n",
      "$Strolmaveieg\n",
      "$Basstraipole\n",
      "$Werrastrlichwinaastzwe\n",
      "$Latretwie\n",
      "$Kägänasenrunnstrassse\n",
      "$Tangse de\n",
      "$Frastrasttraseindwehodie\n",
      "$Welhonasegaunssegeginzwase\n",
      "$Idetrade\n",
      "$Masselzwe\n",
      "$Aligasse\n",
      "$Wastrase\n",
      "$Spladeg\n",
      "$Brasenzend\n",
      "$Reg\n",
      "$Stratreigipenrast.-Brachatryrt\n",
      "$Lastache\n",
      "$Dedälbieg\n",
      "$Virckkolatterachoqussssssedig\n",
      "$Haselalnhfrng\n",
      "$Maveim Kellseligrtenwiliastzhb\n",
      "$Pünraserchasseg\n",
      "$Bo-Strasraistrase Höneltrhasst\n",
      "$He\n",
      "$Juchseasssssteggge\n",
      "$Fraite\n",
      "$Enassse\n",
      "$Em Begplwigraranstteng\n",
      "$Sinee\n",
      "$Myepltr-Flstrrdensese\n",
      "$Ze\n",
      "$Kidorastrofeusequhasigastrasen\n",
      "$Sikeriserobe\n",
      "$Kaustebertrasstintrigie\n",
      "$Waseuchne\n",
      "$Hode\n",
      "$Splastegeg\n",
      "$Graserarma-Flratrffe\n",
      "$Ristzranlarauleig\n",
      "$Be-Lasterase\n",
      "$Höbüte\n",
      "$Batraurdogeg\n",
      "$Dihostwimfussenamürsse\n",
      "$Binotrollase\n",
      "$Maschöbalz\n",
      "$Hegriggsste\n",
      "$Ammasserkatrstzstrasts\n",
      "$Passstrastrase\n",
      "$Kenssewerzeninanse\n",
      "$Sen-Rinstikögne\n",
      "$Regaststrsse\n",
      "$Wäracherast-Schofrache\n",
      "$Je\n",
      "$Schostrieirassegg\n",
      "$Ködstr-Wasegelwerse-Iliwernme\n",
      "$Krglstradelstasttrarasstreg\n",
      "$He\n",
      "$Glbi-Werairser-Wattrsssstr\n",
      "$Zse\n",
      "$Genlgenkostreg\n",
      "$Roratrasenbe\n",
      "$Neeldstt\n",
      "$Ruweissegssstrtrseibrassssseih\n",
      "$Husese\n",
      "$Zele\n",
      "$Stswifnssegf\n",
      "$Katt-Gregastrslassilltier\n",
      "$Drisenenerssssegwischastratr\n",
      "$Ne\n",
      "$Tig\n",
      "$Hömasshg\n",
      "$Ne\n",
      "$Imserwe\n",
      "$Löstegenwegg\n",
      "$Ple\n",
      "$Frasthel-Othnendbasseurannase\n",
      "$R. Köraseginreraing\n"
     ]
    }
   ],
   "source": [
    "from random import choices\n",
    "\n",
    "for _ in range(100):\n",
    "    gen = [\"$\"]\n",
    "    for _ in range(30):\n",
    "        c = gen[-1]\n",
    "        samples = list(freq_per_char[c].keys())\n",
    "        p_samples = list(freq_per_char[c].values())\n",
    "        next_c = choices(samples, p_samples)[0]\n",
    "        gen.append(next_c)\n",
    "        if next_c==\"$\":\n",
    "            break\n",
    "    print(\"\".join(gen))\n",
    "        "
   ]
  },
  {
   "cell_type": "code",
   "execution_count": 27,
   "id": "5b26912f-54fc-41cf-b250-8ddeed0fb047",
   "metadata": {},
   "outputs": [
    {
     "data": {
      "text/plain": [
       "[(('r', 'a'), 1189),\n",
       " (('e', '$'), 1283),\n",
       " (('a', 's'), 1309),\n",
       " (('s', 's'), 1359),\n",
       " (('s', 'e'), 1366)]"
      ]
     },
     "execution_count": 27,
     "metadata": {},
     "output_type": "execute_result"
    }
   ],
   "source": [
    "sorted(list(freq.items()), key= lambda x: x[1])[-5:]"
   ]
  },
  {
   "cell_type": "markdown",
   "id": "c0ff0f4b-54f6-4453-8e50-8c84dc54f1d3",
   "metadata": {
    "tags": []
   },
   "source": [
    "## Use a smarter way to tokenize "
   ]
  },
  {
   "cell_type": "code",
   "execution_count": 134,
   "id": "394c1728-b63c-4b32-b1f8-f87d1010b124",
   "metadata": {
    "tags": []
   },
   "outputs": [
    {
     "name": "stdout",
     "output_type": "stream",
     "text": [
      "new_token=('s', 'e')\n",
      "new_token=('a', 's')\n",
      "new_token=('as', 'se')\n",
      "new_token=('asse', '$')\n",
      "new_token=('s', 't')\n",
      "new_token=('r', 'asse$')\n",
      "new_token=('st', 'rasse$')\n",
      "new_token=('e', 'r')\n",
      "new_token=('e', 'n')\n",
      "new_token=('g', '$')\n",
      "new_token=('e', 'g$')\n",
      "new_token=('c', 'h')\n"
     ]
    }
   ],
   "source": [
    "#In every iteration step (Byte-pair encoding): \n",
    "# 1. find most commmon pair\n",
    "# 2. merge them and add to vocabulary\n",
    "# 3. get counts on new vocabulary\n",
    "\n",
    "new_tokens = set()\n",
    "n_iterations = 12\n",
    "names2 = names.copy()\n",
    "vocab2 = set()\n",
    "bigrams2 = set()\n",
    "freq2 = freq.copy()\n",
    "\n",
    "for n in range(n_iterations):\n",
    "    #1\n",
    "    new_token, _ = sorted(list(freq2.items()), key= lambda x: x[1])[-1]\n",
    "    print(f\"{new_token=}\")\n",
    "    #2\n",
    "    new_tokens.add(\"\".join(new_token))\n",
    "\n",
    "    # need to treat words in wordlist as list of chars so we can handle merged tokens\n",
    "    new_names = names.copy()\n",
    "    temp_list = []\n",
    "    for i, street in enumerate(names2):\n",
    "        temp = []\n",
    "        skip = False\n",
    "        for i in range(len(street)-1):\n",
    "            if skip:\n",
    "                skip = False\n",
    "                continue\n",
    "            if new_token == (street[i], street[i+1]):\n",
    "                temp.append(\"\".join(new_token))\n",
    "                skip = True\n",
    "            else:\n",
    "                temp.append(street[i])\n",
    "        temp_list.append(temp+[street[-1]] if temp[-1][-1]!=\"$\" else temp)\n",
    "    names2 = temp_list\n",
    "    \n",
    "    # create count of tokens\n",
    "    freq2 = dict()\n",
    "    for street in names2:\n",
    "        for pair in zip(street, street[1:]):\n",
    "                vocab2.add(pair[0])\n",
    "                bigrams2.add(pair)\n",
    "                freq2[pair] = 1+freq2.get(pair, 0)\n",
    "    freq_per_char2 = {i : dict() for i in vocab2}\n",
    "    for bigram, f in freq2.items():\n",
    "        i, j = bigram\n",
    "        freq_per_char2[i][j] = f\n",
    "    "
   ]
  },
  {
   "cell_type": "code",
   "execution_count": null,
   "id": "6a2e28d8-496a-42ab-8eb4-edb4e7a723ea",
   "metadata": {},
   "outputs": [],
   "source": []
  },
  {
   "cell_type": "code",
   "execution_count": 139,
   "id": "adc75390-ef5f-4b37-8fe1-dbd064f14f4b",
   "metadata": {
    "tags": []
   },
   "outputs": [
    {
     "name": "stdout",
     "output_type": "stream",
     "text": [
      "$Basengasse$\n",
      "$Glzewanstweg$\n",
      "$Frtzpfttrehnrs$\n",
      "$Imatelachihl-Weg$\n",
      "$Zägeglttierstrasse$\n",
      "$Katenndrstrasse$\n",
      "$Sttstrasse$\n",
      "$Röngstrasse$\n",
      "$Tusarühannastägstrasse$\n",
      "$Grühneberge-Wanstrasse$\n",
      "$Stenbalstrasse$\n",
      "$Grauldsstrasse$\n",
      "$Amangerstrasse$\n",
      "$Wyertteikhauberste-Hergerstrasse$\n",
      "$Imesenng$\n",
      "$Wyernnbelenhuelttrasse$\n",
      "$Dühaliweinchstrasse$\n",
      "$Vihaderschösteserenrinweg$\n",
      "$Basthof$\n",
      "$Rugerm dstrasse$\n",
      "$Rilerngnstrasse$\n",
      "$Mer$\n",
      "$Oelacklirsardmgstrasse$\n",
      "$Fackolelenstrasse$\n",
      "$Zweg$\n",
      "$Latzweg$\n",
      "$Kldlergasteitivassrubaumparobrünstrasse$\n",
      "$Kinweg$\n",
      "$Sig$\n",
      "$Sphlgenbageggstrasse$\n",
      "$Sirühldasipstrasse$\n",
      "$Rantsterstrasse$\n",
      "$Imenrstrasse$\n",
      "$Prchöchen$\n",
      "$Hue-Siweg$\n",
      "$Imelstrasse$\n",
      "$Imarhrartz$\n",
      "$Boner$\n",
      "$Bishoppldwatstrasse$\n",
      "$Juchiestrasse$\n",
      "$Holaugasse$\n",
      "$Chütiternginhauchenusenstrasse$\n",
      "$Entstrasse$\n",
      "$Hotenstrasse$\n",
      "$St-Frachtauenweg$\n",
      "$Klhamlfansberstrasse$\n",
      "$Ahschenstalifer Mühlzenstrasse$\n",
      "$Klfitastttstrasse$\n",
      "$Gif$\n",
      "$Zonnorstrasse$\n",
      "$Thlinenwindmergweg$\n",
      "$Sesenstemischistrasse$\n",
      "$Luerstrasse$\n",
      "$Durie$\n",
      "$Hiderwiwieggasse$\n",
      "$Rikergstrasse$\n",
      "$Schstrasse$\n",
      "$Glenstrasse$\n",
      "$Caunstrasse$\n",
      "$Fuenstrasse$\n",
      "$Stweg$\n",
      "$Begergpl-Felchludeimstrasse$\n",
      "$Kagasse$\n",
      "$Ststrasse$\n",
      "$Bibeiweg$\n",
      "$Daudlerpystrasse$\n",
      "$Fribatrasse$\n",
      "$Mügstrasse$\n",
      "$Hie Palstrasse$\n",
      "$Larleslsefinn-Weg$\n",
      "$Schig$\n",
      "$Alerwig$\n",
      "$Briwysieetackelhn$\n",
      "$Bistrasse$\n",
      "$Frühlf$\n",
      "$Tobetzenweg$\n",
      "$Ellatrasse$\n",
      "$Ekeggenwig$\n",
      "$Berostrasse$\n",
      "$Furen$\n",
      "$Girchataurohostrasse$\n",
      "$Getweg$\n",
      "$Faufstrasse$\n",
      "$Rolim Weg$\n",
      "$Brschän Tulauhlfanthykorin-St-S\n",
      "$Taurlelisatrasse$\n",
      "$Arfstrasse$\n",
      "$Strasse$\n",
      "$Ristrasse$\n",
      "$Krarinplig$\n",
      "$Stig$\n",
      "$Artausenstrasse$\n",
      "$He Hobenkenningweg$\n",
      "$Ho-Stwyd-Sprühndinstrasse$\n",
      "$Renslstrasse$\n",
      "$Ektzweistrasse$\n",
      "$Isenergiergerstrasse$\n",
      "$Frannberweg$\n",
      "$Hücker$\n",
      "$Gieisstrasse$\n"
     ]
    }
   ],
   "source": [
    "for _ in range(100):\n",
    "    gen = [\"$\"]\n",
    "    for _ in range(30):\n",
    "        c = gen[-1]\n",
    "        samples = list(freq_per_char2[c].keys())\n",
    "        p_samples = list(freq_per_char2[c].values())\n",
    "        next_c = choices(samples, p_samples)[0]\n",
    "        gen.append(next_c)\n",
    "        if next_c[-1]==\"$\":\n",
    "            break\n",
    "    print(\"\".join(gen))"
   ]
  },
  {
   "cell_type": "code",
   "execution_count": 76,
   "id": "4cb67819-89cb-4654-a1e8-b613fadc03a0",
   "metadata": {},
   "outputs": [
    {
     "data": {
      "text/plain": [
       "['$Aargauerstrasse$',\n",
       " '$Abeggweg$',\n",
       " '$Abendweg$',\n",
       " '$Ackermannstrasse$',\n",
       " '$Ackersteinstrasse$',\n",
       " '$Ackerstrasse$']"
      ]
     },
     "execution_count": 76,
     "metadata": {},
     "output_type": "execute_result"
    }
   ],
   "source": [
    "names[0:6]"
   ]
  },
  {
   "cell_type": "code",
   "execution_count": 75,
   "id": "900a460e-05b4-4d38-aaf7-e9aca05bb85e",
   "metadata": {},
   "outputs": [
    {
     "data": {
      "text/plain": [
       "['$Aargauerstrasse$',\n",
       " '$Abeggweg$',\n",
       " '$Abendweg$',\n",
       " '$Ackermannstrasse$',\n",
       " '$Ackersteinstrasse$',\n",
       " ['$', 'W', 'ü', 'h', 'r', 'e', '$']]"
      ]
     },
     "execution_count": 75,
     "metadata": {},
     "output_type": "execute_result"
    }
   ],
   "source": [
    "names2[0:6]"
   ]
  },
  {
   "cell_type": "code",
   "execution_count": null,
   "id": "15303ce8-623e-4d25-9f97-d6f3ba709715",
   "metadata": {},
   "outputs": [],
   "source": []
  },
  {
   "cell_type": "markdown",
   "id": "449f192c-3034-4e66-83d0-3437c8374310",
   "metadata": {},
   "source": [
    "### How good is our model?"
   ]
  },
  {
   "cell_type": "code",
   "execution_count": null,
   "id": "6f384298-cbf0-47ec-985c-2de06b0d9a00",
   "metadata": {},
   "outputs": [],
   "source": [
    "# compute negative log likelihood of above model\n",
    "# use NN to learn parameters (freq dictionary) to minimize log likelihood"
   ]
  }
 ],
 "metadata": {
  "kernelspec": {
   "display_name": "Python 3 (ipykernel)",
   "language": "python",
   "name": "python3"
  },
  "language_info": {
   "codemirror_mode": {
    "name": "ipython",
    "version": 3
   },
   "file_extension": ".py",
   "mimetype": "text/x-python",
   "name": "python",
   "nbconvert_exporter": "python",
   "pygments_lexer": "ipython3",
   "version": "3.9.6"
  }
 },
 "nbformat": 4,
 "nbformat_minor": 5
}
